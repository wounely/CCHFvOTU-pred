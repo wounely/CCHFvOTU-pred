{
 "cells": [
  {
   "cell_type": "markdown",
   "metadata": {
    "id": "8Hrlqmb0Bhvs"
   },
   "source": [
    "# AdaBoost Training and testing\n",
    "\n",
    "> This notebook contains the pipeline for training and testing of **AdaBoost** models for the **unsampled**, **undersampled**, **oversampled/SMOTE**, and **Selection of Random 5000 inactives** . \n"
   ]
  },
  {
   "cell_type": "markdown",
   "metadata": {
    "id": "IoR6mUQZDlQX"
   },
   "source": [
    "## Utilities"
   ]
  },
  {
   "cell_type": "code",
   "execution_count": 2,
   "metadata": {},
   "outputs": [
    {
     "data": {
      "text/plain": [
       "'1.2.2'"
      ]
     },
     "execution_count": 2,
     "metadata": {},
     "output_type": "execute_result"
    }
   ],
   "source": [
    "import sklearn\n",
    "sklearn.__version__\n"
   ]
  },
  {
   "cell_type": "code",
   "execution_count": 38,
   "metadata": {},
   "outputs": [
    {
     "data": {
      "text/plain": [
       "'0.10.1'"
      ]
     },
     "execution_count": 38,
     "metadata": {},
     "output_type": "execute_result"
    }
   ],
   "source": [
    "import imblearn\n",
    "imblearn.__version__"
   ]
  },
  {
   "cell_type": "code",
   "execution_count": 4,
   "metadata": {
    "execution": {
     "iopub.execute_input": "2023-04-28T11:02:57.897966Z",
     "iopub.status.busy": "2023-04-28T11:02:57.897574Z",
     "iopub.status.idle": "2023-04-28T11:02:59.211573Z",
     "shell.execute_reply": "2023-04-28T11:02:59.210065Z",
     "shell.execute_reply.started": "2023-04-28T11:02:57.897931Z"
    },
    "id": "ZoavMQSxGNW0"
   },
   "outputs": [],
   "source": [
    "\"\"\"Utility functions to perform common tasks\"\"\"\n",
    "\n",
    "import pandas as pd\n",
    "import numpy as np\n",
    "import matplotlib.pyplot as plt\n",
    "\n",
    "from sklearn.model_selection import train_test_split\n",
    "from sklearn.feature_selection import VarianceThreshold\n",
    "from sklearn.metrics import accuracy_score, balanced_accuracy_score, precision_score, recall_score, f1_score, matthews_corrcoef, roc_auc_score, confusion_matrix, ConfusionMatrixDisplay\n",
    "\n",
    "from imblearn.under_sampling import RandomUnderSampler\n",
    "from imblearn.over_sampling import SMOTE\n",
    "\n",
    "\n",
    "\n",
    "def sep_features_and_target(df, target = 'Activity'):\n",
    "    \"\"\"Divide the dataframe into X and y\n",
    "\n",
    "    Args:\n",
    "        df (pandas.DataFrame): The dataset\n",
    "        target (str, optional): The target variable. Defaults to 'Activity'.\n",
    "\n",
    "    Returns:\n",
    "        X (pandas.DataFrame): The feature matrix of the dataset\n",
    "        y (pandas.Series): The target variable of the dataset\n",
    "    \"\"\"\n",
    "    X = df.drop([target], axis = 1)\n",
    "    y = df[target]\n",
    "\n",
    "    return X, y\n",
    "\n",
    "\n",
    "def visualize_class_distribution(target):\n",
    "    \"\"\"Divide the dataframe into X and y and Visualize the class distribution of a dataset\n",
    "\n",
    "    Args:\n",
    "        target(pandas.Series): The target variable of the dataset\n",
    "\n",
    "    Returns:\n",
    "        pandas.Series: The class distribution (value counts)\n",
    "        Shows the class distribution of the dataset\n",
    "    \"\"\"\n",
    "\n",
    "    target.value_counts().plot(kind = 'pie', autopct = '%.3f%%', figsize = (3, 3))\n",
    "    \n",
    "    output = f'{target.value_counts()[0]} Inactive Compounds, {target.value_counts()[1]} Active Compounds'\n",
    "    print(output)\n",
    "\n",
    "def train_test(X, y, test_size = 0.2, random_state = 42):\n",
    "    \"\"\"Split a dataset into train and test sets and visualize the distribution of classes in the trainsets\n",
    "\n",
    "    Args:\n",
    "        X (pandas.DataFrame): The feature matrix of a dataset\n",
    "        y (pandas.Series): The target variable of a dataset\n",
    "        test_size (float, optional): The size of the test set. Defaults to 0.2.\n",
    "\n",
    "    Returns:\n",
    "        X_train (pandas.DataFrame): The feature matrix of the training set\n",
    "        X_test (pandas.DataFrame): The feature matrix of the test set\n",
    "        y_train (pandas.Series): The target variable of the training set\n",
    "        y_test (pandas.Series): The target variable of the test set\n",
    "\n",
    "    \"\"\"\n",
    "\n",
    "    X_train, X_test, y_train, y_test = train_test_split(X, y, test_size = test_size, random_state = random_state)\n",
    "\n",
    "    # visualize_class_distribution(y_train)\n",
    "    \n",
    "\n",
    "    print(f'Trainset ---> {y_train.value_counts()[0]} Inactive Compounds, {y_train.value_counts()[1]} Active Compounds')\n",
    "    print(f'Testset ---> {y_test.value_counts()[0]} Inactive Compounds, {y_test.value_counts()[1]} Active Compounds')\n",
    "\n",
    "    return X_train, X_test, y_train, y_test \n",
    "    \n",
    "\n",
    "def variance_filter(X_train, X_test, threshold = 0.0):\n",
    "    \"\"\"Remove features with low variance\n",
    "\n",
    "    Args:\n",
    "        train (pandas.DataFrame): The training set\n",
    "        test (pandas.DataFrame): The test set\n",
    "        threshold (float, optional): The threshold for variance. Defaults to 0.0.\n",
    "\n",
    "    Returns:\n",
    "        pandas.DataFrame: The filtered training set\n",
    "        pandas.DataFrame: The filtered test set\n",
    "    \"\"\"\n",
    "    \n",
    "    print(f'Initial Shapes: X_train ---> {X_train.shape}, X_test ---> {X_test.shape}')\n",
    "    \n",
    "    vt = VarianceThreshold(threshold = threshold)\n",
    "    \n",
    "    #Fit\n",
    "    _ = vt.fit(X_train)\n",
    "    \n",
    "    # Get the mask\n",
    "    mask = vt.get_support()\n",
    "    \n",
    "    #Subset the DataFrame\n",
    "\n",
    "    X_train = X_train.loc[:, mask]\n",
    "    X_test = X_test.loc[:, mask]\n",
    "    \n",
    "    print(f'After Filter: X_train ---> {X_train.shape}, X_test ---> {X_test.shape}')\n",
    "\n",
    "    return X_train, X_test, mask\n",
    "\n",
    "def undersampler(X_train, y_train, ratio = 0.5, random_state = 42):\n",
    "    \"\"\"Undersample the training set\n",
    "\n",
    "    Args:\n",
    "        X_train (pandas.DataFrame): The feature matrix of the training set\n",
    "        y_train (pandas.Series): The target variable of the training set\n",
    "        ratio (float): sampling strategy for random undersampling.\n",
    "\n",
    "    Returns:\n",
    "        X_train (pandas.DataFrame): The feature matrix of the training set\n",
    "        y_train (pandas.Series): The target variable of the training set\n",
    "    \"\"\"\n",
    "    rus = RandomUnderSampler(sampling_strategy = ratio, random_state = random_state)\n",
    "    X_train, y_train = rus.fit_resample(X_train, y_train)\n",
    "    \n",
    "    print(f'Trainset ---> {y_train.value_counts()[0]} Inactive Compounds, {y_train.value_counts()[1]} Active Compounds')\n",
    "    \n",
    "    return X_train, y_train\n",
    "\n",
    "def oversampler(X_train, y_train, ratio = 0.5, random_state = 42):\n",
    "    \"\"\"Over sample the training set with SMOTE\n",
    "    \n",
    "    Args:\n",
    "        X_train (pandas.DataFrame): The feature matrix of the training set\n",
    "        y_train (pandas.Series): The target variable of the training set\n",
    "        ration = ratio of minority class to majority class\n",
    "        \n",
    "    Returns:\n",
    "        X_train (pandas.DataFrame): The feature matrix of the training set\n",
    "        y_train (pandas.Series): The target variable of the training set\n",
    "    \"\"\"\n",
    "    sm = SMOTE(sampling_strategy = ratio, random_state = random_state)\n",
    "    X_train, y_train = sm.fit_resample(X_train, y_train)\n",
    "    \n",
    "    print(f'Trainset ---> {y_train.value_counts()[0]} Inactive Compounds, {y_train.value_counts()[1]} Active Compounds')\n",
    "    \n",
    "    return X_train, y_train\n",
    "\n",
    "def random_five_thousand(df, num = 5000):\n",
    "    \"\"\"Dataframe with 5000 inactive compounds and all active compounds\n",
    "\n",
    "    Args:\n",
    "        df (dataframe): the dataframe for the training data\n",
    "        \n",
    "    Returns:\n",
    "        df (dataframe): the dataframe for the training data containing 5000 inactive plus all active compounds\n",
    "    \"\"\"\n",
    "    \n",
    "    df_0 = df.query('Activity == 0')\n",
    "    df_1 = df.query('Activity == 1')\n",
    "    \n",
    "    print(f'Initial Number of Compounds: Inactives ---> {len(df_0)}, Actives ---> {len(df_1)}')\n",
    "    \n",
    "    df_0 = df_0.sample(n = num, random_state = 42)\n",
    "    \n",
    "    print(f'Final Number of Compounds: Inactives ---> {len(df_0)}, Actives ---> {len(df_1)}')\n",
    "    \n",
    "    df = pd.concat([df_0, df_1], ignore_index=True)\n",
    "    \n",
    "    return df\n",
    "\n",
    "def conf_matrix(y,predictions):\n",
    "    \"\"\" Plot a confusion matrix\n",
    "\n",
    "    Arguments: \n",
    "        * y: the true labels... either train or test\n",
    "        * predictions: the predicted labels... either train or test\n",
    "\n",
    "    Returns:\n",
    "        * Displays a confusion matrix\n",
    "    \"\"\"\n",
    "    cm = confusion_matrix(y, predictions)\n",
    "\n",
    "    cm_display = ConfusionMatrixDisplay(cm, display_labels = [False, True])\n",
    "    cm_display.plot()\n",
    "    plt.show()\n",
    "\n",
    "\n"
   ]
  },
  {
   "cell_type": "code",
   "execution_count": 5,
   "metadata": {
    "execution": {
     "iopub.execute_input": "2023-04-28T11:02:59.215373Z",
     "iopub.status.busy": "2023-04-28T11:02:59.214844Z",
     "iopub.status.idle": "2023-04-28T11:02:59.231157Z",
     "shell.execute_reply": "2023-04-28T11:02:59.228956Z",
     "shell.execute_reply.started": "2023-04-28T11:02:59.215316Z"
    },
    "id": "a1EOAF4qFt9v"
   },
   "outputs": [],
   "source": [
    "\"\"\"Training\"\"\"\n",
    "\"\"\"\n",
    "This file contains code for performing cross validation and outputting the \n",
    "cross-validation metrics in a dataframe and a confusion matrix. \n",
    "\n",
    "The conf_matrix function is imported from the utility.py file.\n",
    "\n",
    "\"\"\"\n",
    "# Useful imports \n",
    "import pandas as pd \n",
    "from sklearn.metrics import ConfusionMatrixDisplay, confusion_matrix, make_scorer, matthews_corrcoef\n",
    "from sklearn.model_selection import cross_validate\n",
    "#from utility import conf_matrix\n",
    "\n",
    "\n",
    "def cross_validated(classifier, k, X_train, y_train, iteration):\n",
    "    \"\"\"\n",
    "    This function runs a k-fold cross-validation on an input estimator(classifier). \n",
    "    It then returns the mean of the cross-validation metrics as a dataframe that can be easily merged with \n",
    "    that of other models.\n",
    "    It also trains the model and returns it. \n",
    "\n",
    "    Arguments:\n",
    "\n",
    "        * estimator = the classifier or algorithm to use. eg. RandomForestClassifier(n_jobs=-1)\n",
    "        * k = how many fold the validation should be. Default value is 5\n",
    "        \n",
    "        * X_train = training set\n",
    "        * y_train = training set labels\n",
    "        \n",
    "\n",
    "    Returns:\n",
    "        \n",
    "        * Means of the cross-validation metrics provided to the scoring argument \n",
    "        * Trained model \n",
    "    \"\"\"\n",
    "    # Define the cross-validation scoring metrics\n",
    "    # MCC function using the make_scorer function\n",
    "    mcc_scoring = make_scorer(matthews_corrcoef)\n",
    "\n",
    "    #define the scoring metrices you would be using\n",
    "    scoring_metrics = {'accuracy':'accuracy',\n",
    "                       'balanced_accuracy':'balanced_accuracy',\n",
    "                       'precision': 'precision',\n",
    "                       'recall':'recall',\n",
    "                       'f1': 'f1',\n",
    "                       'roc_auc': 'roc_auc',\n",
    "                        'mcc': mcc_scoring}\n",
    "    \n",
    "    # Run the cross-validation and store the result in a variable \n",
    "    cv_results = cross_validate(classifier, X_train, y_train, cv=k, scoring=scoring_metrics, n_jobs=-1)\n",
    "\n",
    "    #Calculate the means of each fold and put it in a dictionary \n",
    "    cv_metrics_means_dict = {'Model': classifier.__class__.__name__, 'Process': 'Cross-Validation', 'Iteration': iteration}\n",
    "    for metric in cv_results.keys():\n",
    "        cv_metrics_means_dict[metric] = cv_results[metric].mean()\n",
    "    \n",
    "    # Convert the dictionary to a dataframe\n",
    "    cv_metrics_means_df = pd.DataFrame(cv_metrics_means_dict, index=[0])\n",
    "\n",
    "    #change the names of the metric columns for uniformity\n",
    "    cv_metrics_means_df.rename(columns={'fit_time':'Fit Time (s)', \n",
    "                                        'score_time':'Score Time (s)',\n",
    "                                          'test_accuracy':'Accuracy',\n",
    "                                        'test_balanced_accuracy': 'Balanced Accuracy',\n",
    "                                        'test_precision':'Precision',\n",
    "                                            'test_recall':'Recall', \n",
    "                                            'test_f1':'F1-Score', \n",
    "                                            'test_roc_auc':'AUROC', \n",
    "                                            'test_mcc':'MCC'}, inplace=True)\n",
    "\n",
    "    #train the model\n",
    "    classifier.fit(X_train, y_train)\n",
    "\n",
    "    #make predictions on the training data\n",
    "    train_predictions = classifier.predict(X_train)\n",
    "\n",
    "    #plot the confusion matrix\n",
    "    conf_matrix(y_train, train_predictions)\n",
    "\n",
    "\n",
    "    return cv_metrics_means_df, classifier\n",
    "\n",
    "\n",
    "\n"
   ]
  },
  {
   "cell_type": "code",
   "execution_count": 6,
   "metadata": {
    "execution": {
     "iopub.execute_input": "2023-04-28T11:02:59.236205Z",
     "iopub.status.busy": "2023-04-28T11:02:59.235816Z",
     "iopub.status.idle": "2023-04-28T11:02:59.255441Z",
     "shell.execute_reply": "2023-04-28T11:02:59.253823Z",
     "shell.execute_reply.started": "2023-04-28T11:02:59.236169Z"
    },
    "id": "3rWEl7w1GNAn"
   },
   "outputs": [],
   "source": [
    "\"\"\"Testing\"\"\"\n",
    "\n",
    "import pandas as pd\n",
    "import matplotlib.pyplot as plt\n",
    "from sklearn.metrics import accuracy_score,balanced_accuracy_score, precision_score, recall_score, f1_score, matthews_corrcoef, roc_auc_score, confusion_matrix, ConfusionMatrixDisplay\n",
    "#from utility import conf_matrix\n",
    "\n",
    "def evaluate_model(model, X_test, y_test, iteration):\n",
    "    \"\"\"Evaluate a model\n",
    "\n",
    "    Args:\n",
    "        model (sklearn.model): The model to be evaluated\n",
    "        X_test (pandas.DataFrame): The feature matrix of the test set\n",
    "        y_test (pandas.Series): The target variable of the test set\n",
    "\n",
    "    Returns:\n",
    "        float: The accuracy of the model\n",
    "        float: The precision of the model\n",
    "        float: The recall of the model\n",
    "        float: The f1-score of the model\n",
    "    \"\"\"\n",
    "    y_pred = model.predict(X_test)\n",
    "    \n",
    "    accuracy = accuracy_score(y_test, y_pred)\n",
    "    balanced_accuracy = balanced_accuracy_score(y_test,y_pred)\n",
    "    precision = precision_score(y_test, y_pred)\n",
    "    recall = recall_score(y_test, y_pred)\n",
    "    f1 = f1_score(y_test, y_pred)\n",
    "    mcc = matthews_corrcoef(y_test, y_pred)\n",
    "    \n",
    "    # if model is svm model use decision function instead of predict proba\n",
    "    if model.__class__.__name__ == 'SVC':\n",
    "        pred_prob = model.decision_function(X_test)\n",
    "        auroc = roc_auc_score(y_test, pred_prob) \n",
    "    else:\n",
    "        pred_prob = model.predict_proba(X_test)[:, 1]\n",
    "        auroc = roc_auc_score(y_test, pred_prob)\n",
    "    \n",
    "    # print(f'Accuracy: {accuracy}')\n",
    "    # print(f'Precision: {precision}')\n",
    "    # print(f'Recall: {recall}')\n",
    "    # print(f'F1-Score: {f1}')\n",
    "    # print(f'MCC: {mcc}')\n",
    "    # print(f'AUROC: {auroc}')\n",
    "    \n",
    "    results = {'Model': model.__class__.__name__, 'Process':'Testing', 'Iteration': iteration,'Accuracy': accuracy, 'Balanced Accuracy':balanced_accuracy, 'Precision': precision, 'Recall': recall, 'F1-Score': f1, 'MCC': mcc, 'AUROC': auroc}\n",
    "    df = pd.DataFrame(results, index = [0])\n",
    "    \n",
    "    # confusion matrix\n",
    "    conf_matrix(y_test, y_pred)\n",
    "    \n",
    "    # cm = confusion_matrix(y_test, y_pred)\n",
    "    \n",
    "    # cm_display = ConfusionMatrixDisplay(confusion_matrix = cm, display_labels = [False, True])    \n",
    "    \n",
    "    # cm_display.plot()\n",
    "    # plt.show()\n",
    "    return df, pred_prob"
   ]
  },
  {
   "cell_type": "markdown",
   "metadata": {
    "id": "rDmQVwxDGI2A"
   },
   "source": [
    "## Imports"
   ]
  },
  {
   "cell_type": "code",
   "execution_count": 7,
   "metadata": {
    "execution": {
     "iopub.execute_input": "2023-04-28T11:02:59.260207Z",
     "iopub.status.busy": "2023-04-28T11:02:59.259366Z",
     "iopub.status.idle": "2023-04-28T11:02:59.317536Z",
     "shell.execute_reply": "2023-04-28T11:02:59.316069Z",
     "shell.execute_reply.started": "2023-04-28T11:02:59.260146Z"
    },
    "id": "LCucRlkLBhvx"
   },
   "outputs": [],
   "source": [
    "## Importing Libraries\n",
    "# useful imports \n",
    "\n",
    "import numpy as np \n",
    "import pandas as pd \n",
    "#from utility import *\n",
    "#from train import * \n",
    "#from test import * \n",
    "import os \n",
    "import pickle\n",
    "\n",
    "#import random forest calssifier from sklearn library\n",
    "\n",
    "from sklearn.ensemble import AdaBoostClassifier\n",
    "from sklearn.model_selection import GridSearchCV, cross_validate\n",
    "\n",
    "%reload_ext autoreload\n",
    "%autoreload 2"
   ]
  },
  {
   "cell_type": "markdown",
   "metadata": {
    "id": "4-zTjkPcBhvz"
   },
   "source": [
    "## Preliminary Actions\n"
   ]
  },
  {
   "cell_type": "code",
   "execution_count": 8,
   "metadata": {
    "execution": {
     "iopub.execute_input": "2023-04-28T11:02:59.321482Z",
     "iopub.status.busy": "2023-04-28T11:02:59.320897Z",
     "iopub.status.idle": "2023-04-28T11:03:59.532849Z",
     "shell.execute_reply": "2023-04-28T11:03:59.531690Z",
     "shell.execute_reply.started": "2023-04-28T11:02:59.321426Z"
    },
    "id": "FgGjbBY8Bhvz",
    "outputId": "eb37f495-bfb7-4b51-db18-213a20af347b"
   },
   "outputs": [
    {
     "data": {
      "text/html": [
       "<div>\n",
       "<style scoped>\n",
       "    .dataframe tbody tr th:only-of-type {\n",
       "        vertical-align: middle;\n",
       "    }\n",
       "\n",
       "    .dataframe tbody tr th {\n",
       "        vertical-align: top;\n",
       "    }\n",
       "\n",
       "    .dataframe thead th {\n",
       "        text-align: right;\n",
       "    }\n",
       "</style>\n",
       "<table border=\"1\" class=\"dataframe\">\n",
       "  <thead>\n",
       "    <tr style=\"text-align: right;\">\n",
       "      <th></th>\n",
       "      <th>D001</th>\n",
       "      <th>D002</th>\n",
       "      <th>D003</th>\n",
       "      <th>D004</th>\n",
       "      <th>D005</th>\n",
       "      <th>D006</th>\n",
       "      <th>D007</th>\n",
       "      <th>D008</th>\n",
       "      <th>D009</th>\n",
       "      <th>D010</th>\n",
       "      <th>...</th>\n",
       "      <th>D769</th>\n",
       "      <th>D770</th>\n",
       "      <th>D771</th>\n",
       "      <th>D772</th>\n",
       "      <th>D773</th>\n",
       "      <th>D774</th>\n",
       "      <th>D775</th>\n",
       "      <th>D776</th>\n",
       "      <th>D777</th>\n",
       "      <th>Activity</th>\n",
       "    </tr>\n",
       "  </thead>\n",
       "  <tbody>\n",
       "    <tr>\n",
       "      <th>0</th>\n",
       "      <td>2</td>\n",
       "      <td>0</td>\n",
       "      <td>0</td>\n",
       "      <td>2</td>\n",
       "      <td>3</td>\n",
       "      <td>0</td>\n",
       "      <td>0</td>\n",
       "      <td>0</td>\n",
       "      <td>0</td>\n",
       "      <td>0</td>\n",
       "      <td>...</td>\n",
       "      <td>0</td>\n",
       "      <td>0</td>\n",
       "      <td>0</td>\n",
       "      <td>0</td>\n",
       "      <td>0</td>\n",
       "      <td>5.267</td>\n",
       "      <td>-0.711</td>\n",
       "      <td>0.379</td>\n",
       "      <td>1.885</td>\n",
       "      <td>1</td>\n",
       "    </tr>\n",
       "    <tr>\n",
       "      <th>1</th>\n",
       "      <td>2</td>\n",
       "      <td>0</td>\n",
       "      <td>0</td>\n",
       "      <td>0</td>\n",
       "      <td>3</td>\n",
       "      <td>0</td>\n",
       "      <td>0</td>\n",
       "      <td>0</td>\n",
       "      <td>0</td>\n",
       "      <td>0</td>\n",
       "      <td>...</td>\n",
       "      <td>0</td>\n",
       "      <td>0</td>\n",
       "      <td>0</td>\n",
       "      <td>0</td>\n",
       "      <td>0</td>\n",
       "      <td>5.426</td>\n",
       "      <td>-0.712</td>\n",
       "      <td>0.353</td>\n",
       "      <td>5.617</td>\n",
       "      <td>1</td>\n",
       "    </tr>\n",
       "    <tr>\n",
       "      <th>2</th>\n",
       "      <td>3</td>\n",
       "      <td>0</td>\n",
       "      <td>0</td>\n",
       "      <td>0</td>\n",
       "      <td>4</td>\n",
       "      <td>0</td>\n",
       "      <td>0</td>\n",
       "      <td>0</td>\n",
       "      <td>0</td>\n",
       "      <td>0</td>\n",
       "      <td>...</td>\n",
       "      <td>0</td>\n",
       "      <td>0</td>\n",
       "      <td>0</td>\n",
       "      <td>0</td>\n",
       "      <td>0</td>\n",
       "      <td>5.883</td>\n",
       "      <td>-0.678</td>\n",
       "      <td>0.383</td>\n",
       "      <td>8.837</td>\n",
       "      <td>1</td>\n",
       "    </tr>\n",
       "    <tr>\n",
       "      <th>3</th>\n",
       "      <td>3</td>\n",
       "      <td>0</td>\n",
       "      <td>0</td>\n",
       "      <td>0</td>\n",
       "      <td>4</td>\n",
       "      <td>0</td>\n",
       "      <td>0</td>\n",
       "      <td>0</td>\n",
       "      <td>0</td>\n",
       "      <td>0</td>\n",
       "      <td>...</td>\n",
       "      <td>0</td>\n",
       "      <td>0</td>\n",
       "      <td>0</td>\n",
       "      <td>0</td>\n",
       "      <td>0</td>\n",
       "      <td>5.807</td>\n",
       "      <td>-0.703</td>\n",
       "      <td>0.409</td>\n",
       "      <td>7.934</td>\n",
       "      <td>1</td>\n",
       "    </tr>\n",
       "    <tr>\n",
       "      <th>4</th>\n",
       "      <td>3</td>\n",
       "      <td>0</td>\n",
       "      <td>0</td>\n",
       "      <td>0</td>\n",
       "      <td>4</td>\n",
       "      <td>0</td>\n",
       "      <td>0</td>\n",
       "      <td>0</td>\n",
       "      <td>0</td>\n",
       "      <td>0</td>\n",
       "      <td>...</td>\n",
       "      <td>0</td>\n",
       "      <td>0</td>\n",
       "      <td>0</td>\n",
       "      <td>0</td>\n",
       "      <td>0</td>\n",
       "      <td>5.833</td>\n",
       "      <td>-0.710</td>\n",
       "      <td>0.400</td>\n",
       "      <td>7.255</td>\n",
       "      <td>1</td>\n",
       "    </tr>\n",
       "  </tbody>\n",
       "</table>\n",
       "<p>5 rows × 778 columns</p>\n",
       "</div>"
      ],
      "text/plain": [
       "   D001  D002  D003  D004  D005  D006  D007  D008  D009  D010  ...  D769   \n",
       "0     2     0     0     2     3     0     0     0     0     0  ...     0  \\\n",
       "1     2     0     0     0     3     0     0     0     0     0  ...     0   \n",
       "2     3     0     0     0     4     0     0     0     0     0  ...     0   \n",
       "3     3     0     0     0     4     0     0     0     0     0  ...     0   \n",
       "4     3     0     0     0     4     0     0     0     0     0  ...     0   \n",
       "\n",
       "   D770  D771  D772  D773   D774   D775   D776   D777  Activity  \n",
       "0     0     0     0     0  5.267 -0.711  0.379  1.885         1  \n",
       "1     0     0     0     0  5.426 -0.712  0.353  5.617         1  \n",
       "2     0     0     0     0  5.883 -0.678  0.383  8.837         1  \n",
       "3     0     0     0     0  5.807 -0.703  0.409  7.934         1  \n",
       "4     0     0     0     0  5.833 -0.710  0.400  7.255         1  \n",
       "\n",
       "[5 rows x 778 columns]"
      ]
     },
     "execution_count": 8,
     "metadata": {},
     "output_type": "execute_result"
    }
   ],
   "source": [
    "#load in the data\n",
    "df = pd.read_csv('../Data/final_dataset.csv')\n",
    "df.head(5)\n"
   ]
  },
  {
   "cell_type": "code",
   "execution_count": 9,
   "metadata": {
    "execution": {
     "iopub.execute_input": "2023-04-28T11:03:59.534667Z",
     "iopub.status.busy": "2023-04-28T11:03:59.534272Z",
     "iopub.status.idle": "2023-04-28T11:04:00.255357Z",
     "shell.execute_reply": "2023-04-28T11:04:00.254287Z",
     "shell.execute_reply.started": "2023-04-28T11:03:59.534633Z"
    },
    "id": "LfpkM_f3Bhv1",
    "outputId": "4f2a1c1b-239a-4b86-a4ae-e91e093291dc"
   },
   "outputs": [
    {
     "name": "stdout",
     "output_type": "stream",
     "text": [
      "(364292, 777)\n",
      "(364292,)\n"
     ]
    }
   ],
   "source": [
    "#divide the data into X and y\n",
    "X, y = sep_features_and_target(df)\n",
    "print(X.shape)\n",
    "print(y.shape)"
   ]
  },
  {
   "cell_type": "markdown",
   "metadata": {
    "id": "FJ8f6tkZBhv1"
   },
   "source": [
    "## Unsampled \n",
    "> The training is done on the imbalanced data and tested with the test set. "
   ]
  },
  {
   "cell_type": "code",
   "execution_count": 9,
   "metadata": {
    "execution": {
     "iopub.execute_input": "2023-04-28T11:04:00.257557Z",
     "iopub.status.busy": "2023-04-28T11:04:00.256669Z",
     "iopub.status.idle": "2023-04-28T11:04:00.499301Z",
     "shell.execute_reply": "2023-04-28T11:04:00.497562Z",
     "shell.execute_reply.started": "2023-04-28T11:04:00.257499Z"
    },
    "id": "u1rOIgUZBhv2",
    "outputId": "707538e5-bfc6-4a39-f03c-9890bc043a41"
   },
   "outputs": [
    {
     "name": "stdout",
     "output_type": "stream",
     "text": [
      "362264 Inactive Compounds, 2028 Active Compounds\n"
     ]
    },
    {
     "data": {
      "image/png": "[encoded data removed]",
      "text/plain": [
       "<Figure size 300x300 with 1 Axes>"
      ]
     },
     "metadata": {},
     "output_type": "display_data"
    }
   ],
   "source": [
    "#visualize the class distribution of the data\n",
    "visualize_class_distribution(y)\n"
   ]
  },
  {
   "cell_type": "code",
   "execution_count": 11,
   "metadata": {
    "execution": {
     "iopub.execute_input": "2023-04-28T11:04:00.502893Z",
     "iopub.status.busy": "2023-04-28T11:04:00.501831Z",
     "iopub.status.idle": "2023-04-28T11:04:02.963376Z",
     "shell.execute_reply": "2023-04-28T11:04:02.962080Z",
     "shell.execute_reply.started": "2023-04-28T11:04:00.502824Z"
    },
    "id": "-sUs0CnfBhv2",
    "outputId": "89decd9e-afef-4a51-c9b8-95f3c05d25a1"
   },
   "outputs": [
    {
     "name": "stdout",
     "output_type": "stream",
     "text": [
      "Trainset ---> 289838 Inactive Compounds, 1595 Active Compounds\n",
      "Testset ---> 72426 Inactive Compounds, 433 Active Compounds\n"
     ]
    }
   ],
   "source": [
    "#split the data into testing and training sets \n",
    "X_train, X_test, y_train, y_test1 = train_test(X,y)\n"
   ]
  },
  {
   "cell_type": "code",
   "execution_count": 12,
   "metadata": {
    "execution": {
     "iopub.execute_input": "2023-04-28T11:04:02.965376Z",
     "iopub.status.busy": "2023-04-28T11:04:02.965035Z",
     "iopub.status.idle": "2023-04-28T11:04:06.759221Z",
     "shell.execute_reply": "2023-04-28T11:04:06.757962Z",
     "shell.execute_reply.started": "2023-04-28T11:04:02.965345Z"
    },
    "id": "irg5CGjJBhv3",
    "outputId": "f1a0b897-c0e2-46e8-d01c-e0f9a688ef4e"
   },
   "outputs": [
    {
     "name": "stdout",
     "output_type": "stream",
     "text": [
      "Initial Shapes: X_train ---> (291433, 777), X_test ---> (72859, 777)\n",
      "After Filter: X_train ---> (291433, 656), X_test ---> (72859, 656)\n"
     ]
    }
   ],
   "source": [
    "#remove low variance features\n",
    "X_train, X_test, mask1 = variance_filter(X_train, X_test)"
   ]
  },
  {
   "cell_type": "code",
   "execution_count": 13,
   "metadata": {
    "execution": {
     "iopub.execute_input": "2023-04-28T11:04:06.765156Z",
     "iopub.status.busy": "2023-04-28T11:04:06.764773Z",
     "iopub.status.idle": "2023-04-28T11:04:06.805998Z",
     "shell.execute_reply": "2023-04-28T11:04:06.804980Z",
     "shell.execute_reply.started": "2023-04-28T11:04:06.765119Z"
    }
   },
   "outputs": [],
   "source": [
    "# #GRID SEARCH\n",
    "# # these are the parameters that would be scored by GridSearch\n",
    "# parameters = {'n_estimators':[60,80,100], \n",
    "#               'criterion':['gini', 'entropy', 'log_loss']}\n",
    "\n",
    "# estimator = RandomForestClassifier(n_jobs=-1) # the algorithm that would be used \n",
    "\n",
    "# #how many fold cross-validation\n",
    "# k = 2\n",
    "\n",
    "# # MCC function for GridSearchCV using the make_scorer function\n",
    "# mcc_scoring = make_scorer(matthews_corrcoef)\n",
    "\n",
    "# #the scoring metrics that would be used to pick the best parameters \n",
    "# scoring_metrics = {'accuracy':'accuracy','precision': 'precision', 'recall':'recall','f1': 'f1','roc_auc': 'roc_auc','mcc': mcc_scoring}\n",
    "\n",
    "\n",
    "# #GridSearch implementation\n",
    "# search = GridSearchCV(estimator, parameters, cv=10, scoring= scoring_metrics, n_jobs=-1, refit = 'recall')\n",
    "\n",
    "# search.fit(X_train, y_train)"
   ]
  },
  {
   "cell_type": "code",
   "execution_count": null,
   "metadata": {
    "execution": {
     "iopub.execute_input": "2023-04-28T11:04:06.808394Z",
     "iopub.status.busy": "2023-04-28T11:04:06.807709Z",
     "iopub.status.idle": "2023-04-28T11:04:06.847340Z",
     "shell.execute_reply": "2023-04-28T11:04:06.846312Z",
     "shell.execute_reply.started": "2023-04-28T11:04:06.808352Z"
    }
   },
   "outputs": [],
   "source": [
    "# #see the results \n",
    "# search.best_score_"
   ]
  },
  {
   "cell_type": "code",
   "execution_count": null,
   "metadata": {},
   "outputs": [],
   "source": []
  },
  {
   "cell_type": "code",
   "execution_count": null,
   "metadata": {
    "execution": {
     "iopub.execute_input": "2023-04-28T11:04:06.849569Z",
     "iopub.status.busy": "2023-04-28T11:04:06.848539Z",
     "iopub.status.idle": "2023-04-28T11:35:23.236710Z",
     "shell.execute_reply": "2023-04-28T11:35:23.233885Z",
     "shell.execute_reply.started": "2023-04-28T11:04:06.849530Z"
    },
    "id": "j8AStyAvBhv3",
    "outputId": "ab989143-633e-4dfe-f43a-317feb75309d"
   },
   "outputs": [],
   "source": [
    "#Begin Cross-Validation\n",
    "estimator = AdaBoostClassifier(random_state=42)\n",
    "Unsam_cv_df, classifier1 = cross_validated(estimator, 10, X_train, y_train, iteration = 'Unsampled')\n",
    " \n"
   ]
  },
  {
   "cell_type": "code",
   "execution_count": null,
   "metadata": {
    "execution": {
     "iopub.execute_input": "2023-04-28T11:35:23.240922Z",
     "iopub.status.busy": "2023-04-28T11:35:23.240451Z",
     "iopub.status.idle": "2023-04-28T11:35:23.361277Z",
     "shell.execute_reply": "2023-04-28T11:35:23.359737Z",
     "shell.execute_reply.started": "2023-04-28T11:35:23.240877Z"
    },
    "id": "M8gKDbXTBhv4",
    "outputId": "673d67a7-06de-4b1f-ec7d-e8f043f1c6e4"
   },
   "outputs": [],
   "source": [
    "#show cross-validated metrics\n",
    "Unsam_cv_df\n"
   ]
  },
  {
   "cell_type": "markdown",
   "metadata": {
    "id": "qP8dsSf9Bhv4"
   },
   "source": [
    "### Testing\n"
   ]
  },
  {
   "cell_type": "code",
   "execution_count": null,
   "metadata": {
    "execution": {
     "iopub.execute_input": "2023-04-28T11:35:23.364091Z",
     "iopub.status.busy": "2023-04-28T11:35:23.363532Z",
     "iopub.status.idle": "2023-04-28T11:35:34.283353Z",
     "shell.execute_reply": "2023-04-28T11:35:34.282302Z",
     "shell.execute_reply.started": "2023-04-28T11:35:23.364048Z"
    },
    "id": "egUaXCvGBhv4",
    "outputId": "a7baec28-47ed-4d41-8565-f28165c334dd"
   },
   "outputs": [],
   "source": [
    "# model testing on external data \n",
    "Unsam_test_df, pred_prob1 = evaluate_model(classifier1, X_test, y_test1, 'Unsampled')\n"
   ]
  },
  {
   "cell_type": "code",
   "execution_count": null,
   "metadata": {
    "execution": {
     "iopub.execute_input": "2023-04-28T11:35:34.285791Z",
     "iopub.status.busy": "2023-04-28T11:35:34.285128Z",
     "iopub.status.idle": "2023-04-28T11:35:34.339319Z",
     "shell.execute_reply": "2023-04-28T11:35:34.337788Z",
     "shell.execute_reply.started": "2023-04-28T11:35:34.285746Z"
    },
    "id": "RmXOZpr1Bhv5",
    "outputId": "0192664a-022a-45ff-95d9-d9483ba947ad"
   },
   "outputs": [],
   "source": [
    "#show the test metrics\n",
    "Unsam_test_df"
   ]
  },
  {
   "cell_type": "markdown",
   "metadata": {
    "id": "9SexCjq8Bhv5"
   },
   "source": [
    "## Undersampled\n",
    "> the inactive set is undersampled using a random undersampler.\n"
   ]
  },
  {
   "cell_type": "code",
   "execution_count": 10,
   "metadata": {
    "execution": {
     "iopub.execute_input": "2023-04-28T11:35:34.342121Z",
     "iopub.status.busy": "2023-04-28T11:35:34.340948Z",
     "iopub.status.idle": "2023-04-28T11:35:37.135817Z",
     "shell.execute_reply": "2023-04-28T11:35:37.134322Z",
     "shell.execute_reply.started": "2023-04-28T11:35:34.342069Z"
    },
    "id": "qW6z6J5gBhv5",
    "outputId": "d7b53003-1b04-4f90-f9d2-3ba978e5bd4e"
   },
   "outputs": [
    {
     "name": "stdout",
     "output_type": "stream",
     "text": [
      "Trainset ---> 289838 Inactive Compounds, 1595 Active Compounds\n",
      "Testset ---> 72426 Inactive Compounds, 433 Active Compounds\n"
     ]
    }
   ],
   "source": [
    "#split the data into testing and training sets\n",
    "X_train, X_test, y_train, y_test2 = train_test(X,y)\n"
   ]
  },
  {
   "cell_type": "code",
   "execution_count": 11,
   "metadata": {
    "execution": {
     "iopub.execute_input": "2023-04-28T11:35:37.138752Z",
     "iopub.status.busy": "2023-04-28T11:35:37.137904Z",
     "iopub.status.idle": "2023-04-28T11:35:41.248723Z",
     "shell.execute_reply": "2023-04-28T11:35:41.247365Z",
     "shell.execute_reply.started": "2023-04-28T11:35:37.138705Z"
    },
    "id": "PRtORTm_Bhv5",
    "outputId": "dcd9c93d-6853-447d-8431-ec20b59276de"
   },
   "outputs": [
    {
     "name": "stdout",
     "output_type": "stream",
     "text": [
      "Initial Shapes: X_train ---> (291433, 777), X_test ---> (72859, 777)\n",
      "After Filter: X_train ---> (291433, 656), X_test ---> (72859, 656)\n"
     ]
    }
   ],
   "source": [
    "\n",
    "#remove low variance features\n",
    "X_train,X_test, mask2 = variance_filter(X_train, X_test)\n"
   ]
  },
  {
   "cell_type": "code",
   "execution_count": 12,
   "metadata": {
    "execution": {
     "iopub.execute_input": "2023-04-28T11:35:41.251186Z",
     "iopub.status.busy": "2023-04-28T11:35:41.250359Z",
     "iopub.status.idle": "2023-04-28T11:35:42.128463Z",
     "shell.execute_reply": "2023-04-28T11:35:42.126979Z",
     "shell.execute_reply.started": "2023-04-28T11:35:41.251150Z"
    },
    "id": "aeLRzSYuBhv6",
    "outputId": "4910f87b-ba37-47d8-9109-34897b4e67f4"
   },
   "outputs": [
    {
     "name": "stdout",
     "output_type": "stream",
     "text": [
      "Trainset ---> 3190 Inactive Compounds, 1595 Active Compounds\n"
     ]
    }
   ],
   "source": [
    "#perform undersampling of the data \n",
    "X_train, y_train= undersampler(X_train, y_train)\n"
   ]
  },
  {
   "cell_type": "code",
   "execution_count": 13,
   "metadata": {
    "execution": {
     "iopub.execute_input": "2023-04-28T11:35:42.130509Z",
     "iopub.status.busy": "2023-04-28T11:35:42.130089Z",
     "iopub.status.idle": "2023-04-28T11:35:42.285160Z",
     "shell.execute_reply": "2023-04-28T11:35:42.283342Z",
     "shell.execute_reply.started": "2023-04-28T11:35:42.130470Z"
    },
    "id": "n_6abK_aBhv6",
    "outputId": "f8c59413-3ee7-43c9-c2c9-133e4a46dacb"
   },
   "outputs": [
    {
     "name": "stdout",
     "output_type": "stream",
     "text": [
      "3190 Inactive Compounds, 1595 Active Compounds\n"
     ]
    },
    {
     "data": {
      "image/png": "[encoded data removed]",
      "text/plain": [
       "<Figure size 300x300 with 1 Axes>"
      ]
     },
     "metadata": {},
     "output_type": "display_data"
    }
   ],
   "source": [
    "#visualize the class distribution of the data after undersampling\n",
    "visualize_class_distribution(y_train)\n"
   ]
  },
  {
   "cell_type": "code",
   "execution_count": 14,
   "metadata": {
    "execution": {
     "iopub.execute_input": "2023-04-28T11:35:42.288944Z",
     "iopub.status.busy": "2023-04-28T11:35:42.287831Z",
     "iopub.status.idle": "2023-04-28T11:36:04.918495Z",
     "shell.execute_reply": "2023-04-28T11:36:04.917120Z",
     "shell.execute_reply.started": "2023-04-28T11:35:42.288862Z"
    },
    "id": "aN2Kt79tBhv6",
    "outputId": "f5db73ab-b5c8-40b1-8e9b-3fb3adff4d23"
   },
   "outputs": [
    {
     "data": {
      "image/png": "[encoded data removed]",
      "text/plain": [
       "<Figure size 640x480 with 2 Axes>"
      ]
     },
     "metadata": {},
     "output_type": "display_data"
    }
   ],
   "source": [
    "#Begin Cross-Validation\n",
    "estimator = AdaBoostClassifier(random_state=42)\n",
    "Undersam_cv_df, classifier2 = cross_validated(estimator, 10, X_train, y_train, iteration = 'Undersampled')"
   ]
  },
  {
   "cell_type": "code",
   "execution_count": 15,
   "metadata": {
    "execution": {
     "iopub.execute_input": "2023-04-28T11:36:04.920913Z",
     "iopub.status.busy": "2023-04-28T11:36:04.920554Z",
     "iopub.status.idle": "2023-04-28T11:36:04.980835Z",
     "shell.execute_reply": "2023-04-28T11:36:04.979697Z",
     "shell.execute_reply.started": "2023-04-28T11:36:04.920879Z"
    },
    "id": "pAsW3gpYBhv6",
    "outputId": "ad174c43-d985-4d3a-9fed-ea18e784d1c6"
   },
   "outputs": [
    {
     "data": {
      "text/html": [
       "<div>\n",
       "<style scoped>\n",
       "    .dataframe tbody tr th:only-of-type {\n",
       "        vertical-align: middle;\n",
       "    }\n",
       "\n",
       "    .dataframe tbody tr th {\n",
       "        vertical-align: top;\n",
       "    }\n",
       "\n",
       "    .dataframe thead th {\n",
       "        text-align: right;\n",
       "    }\n",
       "</style>\n",
       "<table border=\"1\" class=\"dataframe\">\n",
       "  <thead>\n",
       "    <tr style=\"text-align: right;\">\n",
       "      <th></th>\n",
       "      <th>Model</th>\n",
       "      <th>Process</th>\n",
       "      <th>Iteration</th>\n",
       "      <th>Fit Time (s)</th>\n",
       "      <th>Score Time (s)</th>\n",
       "      <th>Accuracy</th>\n",
       "      <th>Balanced Accuracy</th>\n",
       "      <th>Precision</th>\n",
       "      <th>Recall</th>\n",
       "      <th>F1-Score</th>\n",
       "      <th>AUROC</th>\n",
       "      <th>MCC</th>\n",
       "    </tr>\n",
       "  </thead>\n",
       "  <tbody>\n",
       "    <tr>\n",
       "      <th>0</th>\n",
       "      <td>AdaBoostClassifier</td>\n",
       "      <td>Cross-Validation</td>\n",
       "      <td>Undersampled</td>\n",
       "      <td>12.10298</td>\n",
       "      <td>0.137864</td>\n",
       "      <td>0.97179</td>\n",
       "      <td>0.96632</td>\n",
       "      <td>0.965118</td>\n",
       "      <td>0.949882</td>\n",
       "      <td>0.957278</td>\n",
       "      <td>0.996994</td>\n",
       "      <td>0.936466</td>\n",
       "    </tr>\n",
       "  </tbody>\n",
       "</table>\n",
       "</div>"
      ],
      "text/plain": [
       "                Model           Process     Iteration  Fit Time (s)   \n",
       "0  AdaBoostClassifier  Cross-Validation  Undersampled      12.10298  \\\n",
       "\n",
       "   Score Time (s)  Accuracy  Balanced Accuracy  Precision    Recall  F1-Score   \n",
       "0        0.137864   0.97179            0.96632   0.965118  0.949882  0.957278  \\\n",
       "\n",
       "      AUROC       MCC  \n",
       "0  0.996994  0.936466  "
      ]
     },
     "execution_count": 15,
     "metadata": {},
     "output_type": "execute_result"
    }
   ],
   "source": [
    "#show cross-validated metrics\n",
    "Undersam_cv_df\n",
    "\n"
   ]
  },
  {
   "cell_type": "markdown",
   "metadata": {
    "id": "ITp0zUswBhv7"
   },
   "source": [
    "### Testing\n"
   ]
  },
  {
   "cell_type": "code",
   "execution_count": 16,
   "metadata": {
    "execution": {
     "iopub.execute_input": "2023-04-28T11:36:04.983396Z",
     "iopub.status.busy": "2023-04-28T11:36:04.982301Z",
     "iopub.status.idle": "2023-04-28T11:36:15.938032Z",
     "shell.execute_reply": "2023-04-28T11:36:15.936681Z",
     "shell.execute_reply.started": "2023-04-28T11:36:04.983358Z"
    },
    "id": "rir6sULZBhv7",
    "outputId": "2220bbd0-7be4-4d1d-f9df-9f663802cd1b"
   },
   "outputs": [
    {
     "data": {
      "image/png": "[encoded data removed]",
      "text/plain": [
       "<Figure size 640x480 with 2 Axes>"
      ]
     },
     "metadata": {},
     "output_type": "display_data"
    }
   ],
   "source": [
    "# model testing on external data \n",
    "Undersam_test_df, pred_prob2 = evaluate_model(classifier2, X_test, y_test2, 'Undersampled')\n"
   ]
  },
  {
   "cell_type": "code",
   "execution_count": 17,
   "metadata": {
    "execution": {
     "iopub.execute_input": "2023-04-28T11:36:15.941045Z",
     "iopub.status.busy": "2023-04-28T11:36:15.940514Z",
     "iopub.status.idle": "2023-04-28T11:36:15.994930Z",
     "shell.execute_reply": "2023-04-28T11:36:15.993491Z",
     "shell.execute_reply.started": "2023-04-28T11:36:15.940991Z"
    },
    "id": "bumMP3h0Bhv7",
    "outputId": "879c6f25-aede-4e45-ff15-925771cc7eb4"
   },
   "outputs": [
    {
     "data": {
      "text/html": [
       "<div>\n",
       "<style scoped>\n",
       "    .dataframe tbody tr th:only-of-type {\n",
       "        vertical-align: middle;\n",
       "    }\n",
       "\n",
       "    .dataframe tbody tr th {\n",
       "        vertical-align: top;\n",
       "    }\n",
       "\n",
       "    .dataframe thead th {\n",
       "        text-align: right;\n",
       "    }\n",
       "</style>\n",
       "<table border=\"1\" class=\"dataframe\">\n",
       "  <thead>\n",
       "    <tr style=\"text-align: right;\">\n",
       "      <th></th>\n",
       "      <th>Model</th>\n",
       "      <th>Process</th>\n",
       "      <th>Iteration</th>\n",
       "      <th>Accuracy</th>\n",
       "      <th>Balanced Accuracy</th>\n",
       "      <th>Precision</th>\n",
       "      <th>Recall</th>\n",
       "      <th>F1-Score</th>\n",
       "      <th>MCC</th>\n",
       "      <th>AUROC</th>\n",
       "    </tr>\n",
       "  </thead>\n",
       "  <tbody>\n",
       "    <tr>\n",
       "      <th>0</th>\n",
       "      <td>AdaBoostClassifier</td>\n",
       "      <td>Testing</td>\n",
       "      <td>Undersampled</td>\n",
       "      <td>0.98401</td>\n",
       "      <td>0.971296</td>\n",
       "      <td>0.265685</td>\n",
       "      <td>0.95843</td>\n",
       "      <td>0.41604</td>\n",
       "      <td>0.500195</td>\n",
       "      <td>0.996766</td>\n",
       "    </tr>\n",
       "  </tbody>\n",
       "</table>\n",
       "</div>"
      ],
      "text/plain": [
       "                Model  Process     Iteration  Accuracy  Balanced Accuracy   \n",
       "0  AdaBoostClassifier  Testing  Undersampled   0.98401           0.971296  \\\n",
       "\n",
       "   Precision   Recall  F1-Score       MCC     AUROC  \n",
       "0   0.265685  0.95843   0.41604  0.500195  0.996766  "
      ]
     },
     "execution_count": 17,
     "metadata": {},
     "output_type": "execute_result"
    }
   ],
   "source": [
    "#show the test metrics\n",
    "Undersam_test_df"
   ]
  },
  {
   "cell_type": "markdown",
   "metadata": {
    "id": "9BDyQ4lkBhv7"
   },
   "source": [
    "## SMOTE\n",
    "\n",
    "> The active set is oversampled using the Synthetic Minority Oversampling Technique (SMOTE)"
   ]
  },
  {
   "cell_type": "code",
   "execution_count": null,
   "metadata": {
    "execution": {
     "iopub.execute_input": "2023-04-28T11:36:15.998469Z",
     "iopub.status.busy": "2023-04-28T11:36:15.997519Z",
     "iopub.status.idle": "2023-04-28T11:36:18.471204Z",
     "shell.execute_reply": "2023-04-28T11:36:18.470050Z",
     "shell.execute_reply.started": "2023-04-28T11:36:15.998415Z"
    },
    "id": "BR9FjMjMBhv8",
    "outputId": "82d5b00f-255f-4978-966e-367081099b22"
   },
   "outputs": [],
   "source": [
    "# #split the data into testing and training sets\n",
    "# X_train, X_test, y_train, y_test3 = train_test(X,y)\n"
   ]
  },
  {
   "cell_type": "code",
   "execution_count": null,
   "metadata": {
    "execution": {
     "iopub.execute_input": "2023-04-28T11:36:18.474403Z",
     "iopub.status.busy": "2023-04-28T11:36:18.473452Z",
     "iopub.status.idle": "2023-04-28T11:36:22.209818Z",
     "shell.execute_reply": "2023-04-28T11:36:22.207833Z",
     "shell.execute_reply.started": "2023-04-28T11:36:18.474346Z"
    },
    "id": "AeIn-R_jBhv8",
    "outputId": "b35cae5a-eaf5-4384-f936-fe5350102a82"
   },
   "outputs": [],
   "source": [
    "# #remove low variance features\n",
    "# X_train, X_test, mask3 = variance_filter(X_train, X_test)\n"
   ]
  },
  {
   "cell_type": "code",
   "execution_count": null,
   "metadata": {
    "execution": {
     "iopub.execute_input": "2023-04-28T11:36:22.213263Z",
     "iopub.status.busy": "2023-04-28T11:36:22.211759Z",
     "iopub.status.idle": "2023-04-28T11:36:32.625484Z",
     "shell.execute_reply": "2023-04-28T11:36:32.624347Z",
     "shell.execute_reply.started": "2023-04-28T11:36:22.213183Z"
    },
    "id": "-aJKsF6kBhv8",
    "outputId": "2f1bf50e-6de1-447a-8e3f-efb796f2c391"
   },
   "outputs": [],
   "source": [
    "# apply SMOTE to the data\n",
    "X_train, y_train = oversampler(X_train, y_train)\n"
   ]
  },
  {
   "cell_type": "code",
   "execution_count": null,
   "metadata": {
    "execution": {
     "iopub.execute_input": "2023-04-28T11:36:32.627894Z",
     "iopub.status.busy": "2023-04-28T11:36:32.627165Z",
     "iopub.status.idle": "2023-04-28T11:36:32.859226Z",
     "shell.execute_reply": "2023-04-28T11:36:32.856615Z",
     "shell.execute_reply.started": "2023-04-28T11:36:32.627853Z"
    },
    "id": "vQKHRUCsBhv8",
    "outputId": "745632e4-f1e7-4ae0-b843-96fea5e15645"
   },
   "outputs": [],
   "source": [
    "#visualize the class distribution of the data after undersampling\n",
    "visualize_class_distribution(y_train)\n"
   ]
  },
  {
   "cell_type": "code",
   "execution_count": null,
   "metadata": {
    "execution": {
     "iopub.execute_input": "2023-04-28T11:36:32.878710Z",
     "iopub.status.busy": "2023-04-28T11:36:32.876963Z",
     "iopub.status.idle": "2023-04-28T12:31:20.308191Z",
     "shell.execute_reply": "2023-04-28T12:31:20.306257Z",
     "shell.execute_reply.started": "2023-04-28T11:36:32.878621Z"
    },
    "id": "sdd2l0liBhv8",
    "outputId": "6c2b7ea1-28cf-4845-997a-8d7292fdbf3b"
   },
   "outputs": [],
   "source": [
    "# #Begin Cross-Validation\n",
    "# estimator = AdaBoostClassifier(random_state=42)\n",
    "# smote_cv_df, classifier3 = cross_validated(estimator, 2, X_train, y_train, iteration = 'SMOTE')\n"
   ]
  },
  {
   "cell_type": "code",
   "execution_count": null,
   "metadata": {
    "execution": {
     "iopub.execute_input": "2023-04-28T12:31:20.312866Z",
     "iopub.status.busy": "2023-04-28T12:31:20.311214Z",
     "iopub.status.idle": "2023-04-28T12:31:20.429592Z",
     "shell.execute_reply": "2023-04-28T12:31:20.427793Z",
     "shell.execute_reply.started": "2023-04-28T12:31:20.312804Z"
    },
    "id": "pxY4Th1mBhv9",
    "outputId": "e163abc3-8df8-4ccb-dbc7-b0e120319d33"
   },
   "outputs": [],
   "source": [
    "#show cross-validated metrics \n",
    "\n",
    "smote_cv_df\n"
   ]
  },
  {
   "cell_type": "markdown",
   "metadata": {
    "id": "xq2FrsMeBhv9"
   },
   "source": [
    "### Testing\n"
   ]
  },
  {
   "cell_type": "code",
   "execution_count": null,
   "metadata": {
    "execution": {
     "iopub.execute_input": "2023-04-28T12:31:20.431793Z",
     "iopub.status.busy": "2023-04-28T12:31:20.431407Z",
     "iopub.status.idle": "2023-04-28T12:31:31.484480Z",
     "shell.execute_reply": "2023-04-28T12:31:31.483207Z",
     "shell.execute_reply.started": "2023-04-28T12:31:20.431738Z"
    },
    "id": "JZPF9rFGBhv9",
    "outputId": "800b7f4f-0a3d-440e-b3c4-27bd190a8c6e"
   },
   "outputs": [],
   "source": [
    "# # model testing on external data\n",
    "# smote_test_df, pred_prob3 = evaluate_model(classifier3, X_test, y_test3, 'SMOTE')\n"
   ]
  },
  {
   "cell_type": "code",
   "execution_count": null,
   "metadata": {
    "execution": {
     "iopub.execute_input": "2023-04-28T12:31:31.486305Z",
     "iopub.status.busy": "2023-04-28T12:31:31.485912Z",
     "iopub.status.idle": "2023-04-28T12:31:31.538543Z",
     "shell.execute_reply": "2023-04-28T12:31:31.536972Z",
     "shell.execute_reply.started": "2023-04-28T12:31:31.486262Z"
    },
    "id": "aLZ0p_w-Bhv9",
    "outputId": "b5b0bb9f-fbea-4bef-cc58-f5dc3f20bff4"
   },
   "outputs": [],
   "source": [
    "#show the test metrics\n",
    "smote_test_df"
   ]
  },
  {
   "cell_type": "markdown",
   "metadata": {
    "id": "bwiS8YHsBhv9"
   },
   "source": [
    "## Random 5000 \n",
    "> The inactive set is undersampled to 5000 samples and a new dataframe is generated from this with the same number of active samples.\n"
   ]
  },
  {
   "cell_type": "code",
   "execution_count": 18,
   "metadata": {
    "execution": {
     "iopub.execute_input": "2023-04-28T12:31:31.541014Z",
     "iopub.status.busy": "2023-04-28T12:31:31.540614Z",
     "iopub.status.idle": "2023-04-28T12:31:32.714860Z",
     "shell.execute_reply": "2023-04-28T12:31:32.713130Z",
     "shell.execute_reply.started": "2023-04-28T12:31:31.540947Z"
    },
    "id": "zgOjMc6kBhv9",
    "outputId": "facc4012-4be5-4c1d-e159-9bb0419de38a"
   },
   "outputs": [
    {
     "name": "stdout",
     "output_type": "stream",
     "text": [
      "Initial Number of Compounds: Inactives ---> 362264, Actives ---> 2028\n",
      "Final Number of Compounds: Inactives ---> 5000, Actives ---> 2028\n"
     ]
    }
   ],
   "source": [
    "#genrate a dataframe with random 5000 inactives from the original dataset \n",
    "df = random_five_thousand(df)\n"
   ]
  },
  {
   "cell_type": "code",
   "execution_count": 19,
   "metadata": {
    "execution": {
     "iopub.execute_input": "2023-04-28T12:31:32.716769Z",
     "iopub.status.busy": "2023-04-28T12:31:32.716394Z",
     "iopub.status.idle": "2023-04-28T12:31:32.893634Z",
     "shell.execute_reply": "2023-04-28T12:31:32.892174Z",
     "shell.execute_reply.started": "2023-04-28T12:31:32.716733Z"
    },
    "id": "1Bhc75XUBhv-"
   },
   "outputs": [],
   "source": [
    "#divide the data into X and y\n",
    "X, y = sep_features_and_target(df)\n"
   ]
  },
  {
   "cell_type": "code",
   "execution_count": 20,
   "metadata": {
    "execution": {
     "iopub.execute_input": "2023-04-28T12:31:32.896161Z",
     "iopub.status.busy": "2023-04-28T12:31:32.895632Z",
     "iopub.status.idle": "2023-04-28T12:31:32.975439Z",
     "shell.execute_reply": "2023-04-28T12:31:32.974410Z",
     "shell.execute_reply.started": "2023-04-28T12:31:32.896107Z"
    },
    "id": "QbUtWCRcBhv-",
    "outputId": "62e93c7c-5fe7-4c5b-f0a2-69db6875868d"
   },
   "outputs": [
    {
     "name": "stdout",
     "output_type": "stream",
     "text": [
      "Trainset ---> 3982 Inactive Compounds, 1640 Active Compounds\n",
      "Testset ---> 1018 Inactive Compounds, 388 Active Compounds\n"
     ]
    }
   ],
   "source": [
    "#split the data into testing and training sets\n",
    "X_train, X_test, y_train, y_test4 = train_test(X,y)\n"
   ]
  },
  {
   "cell_type": "code",
   "execution_count": 21,
   "metadata": {
    "execution": {
     "iopub.execute_input": "2023-04-28T12:31:32.977331Z",
     "iopub.status.busy": "2023-04-28T12:31:32.976962Z",
     "iopub.status.idle": "2023-04-28T12:31:33.153154Z",
     "shell.execute_reply": "2023-04-28T12:31:33.151738Z",
     "shell.execute_reply.started": "2023-04-28T12:31:32.977297Z"
    },
    "id": "XjM9LOxeBhv-",
    "outputId": "7d5eeaeb-b95a-497c-f066-229c95156255"
   },
   "outputs": [
    {
     "name": "stdout",
     "output_type": "stream",
     "text": [
      "Initial Shapes: X_train ---> (5622, 777), X_test ---> (1406, 777)\n",
      "After Filter: X_train ---> (5622, 629), X_test ---> (1406, 629)\n"
     ]
    }
   ],
   "source": [
    "#remove low variance features\n",
    "X_train, X_test, mask4 = variance_filter(X_train, X_test)\n"
   ]
  },
  {
   "cell_type": "code",
   "execution_count": 22,
   "metadata": {
    "execution": {
     "iopub.execute_input": "2023-04-28T12:31:33.155144Z",
     "iopub.status.busy": "2023-04-28T12:31:33.154762Z",
     "iopub.status.idle": "2023-04-28T12:31:33.309760Z",
     "shell.execute_reply": "2023-04-28T12:31:33.307921Z",
     "shell.execute_reply.started": "2023-04-28T12:31:33.155108Z"
    },
    "id": "LdWVtD7OBhv-",
    "outputId": "05168efa-b54d-4b49-d5e8-78a8e43b7ed7"
   },
   "outputs": [
    {
     "name": "stdout",
     "output_type": "stream",
     "text": [
      "3982 Inactive Compounds, 1640 Active Compounds\n"
     ]
    },
    {
     "data": {
      "image/png": "[encoded data removed]",
      "text/plain": [
       "<Figure size 300x300 with 1 Axes>"
      ]
     },
     "metadata": {},
     "output_type": "display_data"
    }
   ],
   "source": [
    "\n",
    "#visualize the class distribution of the data after undersampling\n",
    "visualize_class_distribution(y_train)\n"
   ]
  },
  {
   "cell_type": "code",
   "execution_count": 23,
   "metadata": {
    "execution": {
     "iopub.execute_input": "2023-04-28T12:31:33.312703Z",
     "iopub.status.busy": "2023-04-28T12:31:33.311771Z",
     "iopub.status.idle": "2023-04-28T12:31:59.573557Z",
     "shell.execute_reply": "2023-04-28T12:31:59.572040Z",
     "shell.execute_reply.started": "2023-04-28T12:31:33.312645Z"
    },
    "id": "hLeYQSleBhv-",
    "outputId": "4508ee2a-0238-4c6c-dbaf-67aa03b9e840"
   },
   "outputs": [
    {
     "data": {
      "image/png": "[encoded data removed]",
      "text/plain": [
       "<Figure size 640x480 with 2 Axes>"
      ]
     },
     "metadata": {},
     "output_type": "display_data"
    }
   ],
   "source": [
    "#Begin Cross-Validation\n",
    "estimator = AdaBoostClassifier(random_state=42)\n",
    "r5000_cv_df, classifier4 = cross_validated(estimator, 10, X_train, y_train, iteration = 'Random 5000')\n"
   ]
  },
  {
   "cell_type": "code",
   "execution_count": 24,
   "metadata": {
    "execution": {
     "iopub.execute_input": "2023-04-28T12:31:59.575935Z",
     "iopub.status.busy": "2023-04-28T12:31:59.575533Z",
     "iopub.status.idle": "2023-04-28T12:31:59.636224Z",
     "shell.execute_reply": "2023-04-28T12:31:59.634978Z",
     "shell.execute_reply.started": "2023-04-28T12:31:59.575896Z"
    },
    "id": "hUkrz_N7Bhv_",
    "outputId": "14455203-d897-45b7-a21f-ce198c9d53f8"
   },
   "outputs": [
    {
     "data": {
      "text/html": [
       "<div>\n",
       "<style scoped>\n",
       "    .dataframe tbody tr th:only-of-type {\n",
       "        vertical-align: middle;\n",
       "    }\n",
       "\n",
       "    .dataframe tbody tr th {\n",
       "        vertical-align: top;\n",
       "    }\n",
       "\n",
       "    .dataframe thead th {\n",
       "        text-align: right;\n",
       "    }\n",
       "</style>\n",
       "<table border=\"1\" class=\"dataframe\">\n",
       "  <thead>\n",
       "    <tr style=\"text-align: right;\">\n",
       "      <th></th>\n",
       "      <th>Model</th>\n",
       "      <th>Process</th>\n",
       "      <th>Iteration</th>\n",
       "      <th>Fit Time (s)</th>\n",
       "      <th>Score Time (s)</th>\n",
       "      <th>Accuracy</th>\n",
       "      <th>Balanced Accuracy</th>\n",
       "      <th>Precision</th>\n",
       "      <th>Recall</th>\n",
       "      <th>F1-Score</th>\n",
       "      <th>AUROC</th>\n",
       "      <th>MCC</th>\n",
       "    </tr>\n",
       "  </thead>\n",
       "  <tbody>\n",
       "    <tr>\n",
       "      <th>0</th>\n",
       "      <td>AdaBoostClassifier</td>\n",
       "      <td>Cross-Validation</td>\n",
       "      <td>Random 5000</td>\n",
       "      <td>14.012897</td>\n",
       "      <td>0.101191</td>\n",
       "      <td>0.974384</td>\n",
       "      <td>0.965958</td>\n",
       "      <td>0.966174</td>\n",
       "      <td>0.945732</td>\n",
       "      <td>0.955643</td>\n",
       "      <td>0.997047</td>\n",
       "      <td>0.93794</td>\n",
       "    </tr>\n",
       "  </tbody>\n",
       "</table>\n",
       "</div>"
      ],
      "text/plain": [
       "                Model           Process    Iteration  Fit Time (s)   \n",
       "0  AdaBoostClassifier  Cross-Validation  Random 5000     14.012897  \\\n",
       "\n",
       "   Score Time (s)  Accuracy  Balanced Accuracy  Precision    Recall  F1-Score   \n",
       "0        0.101191  0.974384           0.965958   0.966174  0.945732  0.955643  \\\n",
       "\n",
       "      AUROC      MCC  \n",
       "0  0.997047  0.93794  "
      ]
     },
     "execution_count": 24,
     "metadata": {},
     "output_type": "execute_result"
    }
   ],
   "source": [
    "#show cross-validated metrics \n",
    "\n",
    "r5000_cv_df\n"
   ]
  },
  {
   "cell_type": "markdown",
   "metadata": {
    "id": "r9FNzu14Bhv_"
   },
   "source": [
    "### Testing\n"
   ]
  },
  {
   "cell_type": "code",
   "execution_count": 25,
   "metadata": {
    "execution": {
     "iopub.execute_input": "2023-04-28T12:31:59.638309Z",
     "iopub.status.busy": "2023-04-28T12:31:59.637952Z",
     "iopub.status.idle": "2023-04-28T12:32:00.125189Z",
     "shell.execute_reply": "2023-04-28T12:32:00.124288Z",
     "shell.execute_reply.started": "2023-04-28T12:31:59.638277Z"
    },
    "id": "yCXXf_jvBhv_",
    "outputId": "c604bc52-7429-4d9e-819d-9bc336beac68"
   },
   "outputs": [
    {
     "data": {
      "image/png": "[encoded data removed]",
      "text/plain": [
       "<Figure size 640x480 with 2 Axes>"
      ]
     },
     "metadata": {},
     "output_type": "display_data"
    }
   ],
   "source": [
    "# model testing on external data\n",
    "r5000_test_df, pred_prob4 = evaluate_model(classifier4, X_test, y_test4, 'Random 5000')\n"
   ]
  },
  {
   "cell_type": "code",
   "execution_count": 26,
   "metadata": {
    "execution": {
     "iopub.execute_input": "2023-04-28T12:32:00.127477Z",
     "iopub.status.busy": "2023-04-28T12:32:00.126809Z",
     "iopub.status.idle": "2023-04-28T12:32:00.178877Z",
     "shell.execute_reply": "2023-04-28T12:32:00.177339Z",
     "shell.execute_reply.started": "2023-04-28T12:32:00.127436Z"
    },
    "id": "OYD3CN88Bhv_",
    "outputId": "3b20623d-8ab4-4598-898c-5c917e889948"
   },
   "outputs": [
    {
     "data": {
      "text/html": [
       "<div>\n",
       "<style scoped>\n",
       "    .dataframe tbody tr th:only-of-type {\n",
       "        vertical-align: middle;\n",
       "    }\n",
       "\n",
       "    .dataframe tbody tr th {\n",
       "        vertical-align: top;\n",
       "    }\n",
       "\n",
       "    .dataframe thead th {\n",
       "        text-align: right;\n",
       "    }\n",
       "</style>\n",
       "<table border=\"1\" class=\"dataframe\">\n",
       "  <thead>\n",
       "    <tr style=\"text-align: right;\">\n",
       "      <th></th>\n",
       "      <th>Model</th>\n",
       "      <th>Process</th>\n",
       "      <th>Iteration</th>\n",
       "      <th>Accuracy</th>\n",
       "      <th>Balanced Accuracy</th>\n",
       "      <th>Precision</th>\n",
       "      <th>Recall</th>\n",
       "      <th>F1-Score</th>\n",
       "      <th>MCC</th>\n",
       "      <th>AUROC</th>\n",
       "    </tr>\n",
       "  </thead>\n",
       "  <tbody>\n",
       "    <tr>\n",
       "      <th>0</th>\n",
       "      <td>AdaBoostClassifier</td>\n",
       "      <td>Testing</td>\n",
       "      <td>Random 5000</td>\n",
       "      <td>0.981508</td>\n",
       "      <td>0.978457</td>\n",
       "      <td>0.961735</td>\n",
       "      <td>0.971649</td>\n",
       "      <td>0.966667</td>\n",
       "      <td>0.953896</td>\n",
       "      <td>0.998127</td>\n",
       "    </tr>\n",
       "  </tbody>\n",
       "</table>\n",
       "</div>"
      ],
      "text/plain": [
       "                Model  Process    Iteration  Accuracy  Balanced Accuracy   \n",
       "0  AdaBoostClassifier  Testing  Random 5000  0.981508           0.978457  \\\n",
       "\n",
       "   Precision    Recall  F1-Score       MCC     AUROC  \n",
       "0   0.961735  0.971649  0.966667  0.953896  0.998127  "
      ]
     },
     "execution_count": 26,
     "metadata": {},
     "output_type": "execute_result"
    }
   ],
   "source": [
    "#show the test metrics\n",
    "r5000_test_df"
   ]
  },
  {
   "cell_type": "code",
   "execution_count": null,
   "metadata": {},
   "outputs": [],
   "source": []
  },
  {
   "cell_type": "markdown",
   "metadata": {
    "id": "LZKkOi4sBhv_"
   },
   "source": [
    "## Final Dataframe of all Trainining and Test Results"
   ]
  },
  {
   "cell_type": "code",
   "execution_count": 27,
   "metadata": {
    "execution": {
     "iopub.execute_input": "2023-04-28T12:32:00.182527Z",
     "iopub.status.busy": "2023-04-28T12:32:00.180845Z",
     "iopub.status.idle": "2023-04-28T12:32:00.229839Z",
     "shell.execute_reply": "2023-04-28T12:32:00.228800Z",
     "shell.execute_reply.started": "2023-04-28T12:32:00.182419Z"
    },
    "id": "d2Jg49eRBhwA"
   },
   "outputs": [],
   "source": [
    "rf_final_results = pd.concat([ Undersam_cv_df, Undersam_test_df, r5000_cv_df, r5000_test_df], axis=0, join='inner', ignore_index=True)"
   ]
  },
  {
   "cell_type": "code",
   "execution_count": 28,
   "metadata": {
    "execution": {
     "iopub.execute_input": "2023-04-28T12:32:00.334492Z",
     "iopub.status.busy": "2023-04-28T12:32:00.333813Z",
     "iopub.status.idle": "2023-04-28T12:32:00.391060Z",
     "shell.execute_reply": "2023-04-28T12:32:00.389576Z",
     "shell.execute_reply.started": "2023-04-28T12:32:00.334451Z"
    },
    "id": "V-ovGim3BhwA",
    "outputId": "25e26a71-53e1-4314-abcb-39fa385c0d96"
   },
   "outputs": [
    {
     "data": {
      "text/html": [
       "<div>\n",
       "<style scoped>\n",
       "    .dataframe tbody tr th:only-of-type {\n",
       "        vertical-align: middle;\n",
       "    }\n",
       "\n",
       "    .dataframe tbody tr th {\n",
       "        vertical-align: top;\n",
       "    }\n",
       "\n",
       "    .dataframe thead th {\n",
       "        text-align: right;\n",
       "    }\n",
       "</style>\n",
       "<table border=\"1\" class=\"dataframe\">\n",
       "  <thead>\n",
       "    <tr style=\"text-align: right;\">\n",
       "      <th></th>\n",
       "      <th>Model</th>\n",
       "      <th>Process</th>\n",
       "      <th>Iteration</th>\n",
       "      <th>Accuracy</th>\n",
       "      <th>Balanced Accuracy</th>\n",
       "      <th>Precision</th>\n",
       "      <th>Recall</th>\n",
       "      <th>F1-Score</th>\n",
       "      <th>AUROC</th>\n",
       "      <th>MCC</th>\n",
       "    </tr>\n",
       "  </thead>\n",
       "  <tbody>\n",
       "    <tr>\n",
       "      <th>0</th>\n",
       "      <td>AdaBoostClassifier</td>\n",
       "      <td>Cross-Validation</td>\n",
       "      <td>Undersampled</td>\n",
       "      <td>0.971790</td>\n",
       "      <td>0.966320</td>\n",
       "      <td>0.965118</td>\n",
       "      <td>0.949882</td>\n",
       "      <td>0.957278</td>\n",
       "      <td>0.996994</td>\n",
       "      <td>0.936466</td>\n",
       "    </tr>\n",
       "    <tr>\n",
       "      <th>1</th>\n",
       "      <td>AdaBoostClassifier</td>\n",
       "      <td>Testing</td>\n",
       "      <td>Undersampled</td>\n",
       "      <td>0.984010</td>\n",
       "      <td>0.971296</td>\n",
       "      <td>0.265685</td>\n",
       "      <td>0.958430</td>\n",
       "      <td>0.416040</td>\n",
       "      <td>0.996766</td>\n",
       "      <td>0.500195</td>\n",
       "    </tr>\n",
       "    <tr>\n",
       "      <th>2</th>\n",
       "      <td>AdaBoostClassifier</td>\n",
       "      <td>Cross-Validation</td>\n",
       "      <td>Random 5000</td>\n",
       "      <td>0.974384</td>\n",
       "      <td>0.965958</td>\n",
       "      <td>0.966174</td>\n",
       "      <td>0.945732</td>\n",
       "      <td>0.955643</td>\n",
       "      <td>0.997047</td>\n",
       "      <td>0.937940</td>\n",
       "    </tr>\n",
       "    <tr>\n",
       "      <th>3</th>\n",
       "      <td>AdaBoostClassifier</td>\n",
       "      <td>Testing</td>\n",
       "      <td>Random 5000</td>\n",
       "      <td>0.981508</td>\n",
       "      <td>0.978457</td>\n",
       "      <td>0.961735</td>\n",
       "      <td>0.971649</td>\n",
       "      <td>0.966667</td>\n",
       "      <td>0.998127</td>\n",
       "      <td>0.953896</td>\n",
       "    </tr>\n",
       "  </tbody>\n",
       "</table>\n",
       "</div>"
      ],
      "text/plain": [
       "                Model           Process     Iteration  Accuracy   \n",
       "0  AdaBoostClassifier  Cross-Validation  Undersampled  0.971790  \\\n",
       "1  AdaBoostClassifier           Testing  Undersampled  0.984010   \n",
       "2  AdaBoostClassifier  Cross-Validation   Random 5000  0.974384   \n",
       "3  AdaBoostClassifier           Testing   Random 5000  0.981508   \n",
       "\n",
       "   Balanced Accuracy  Precision    Recall  F1-Score     AUROC       MCC  \n",
       "0           0.966320   0.965118  0.949882  0.957278  0.996994  0.936466  \n",
       "1           0.971296   0.265685  0.958430  0.416040  0.996766  0.500195  \n",
       "2           0.965958   0.966174  0.945732  0.955643  0.997047  0.937940  \n",
       "3           0.978457   0.961735  0.971649  0.966667  0.998127  0.953896  "
      ]
     },
     "execution_count": 28,
     "metadata": {},
     "output_type": "execute_result"
    }
   ],
   "source": [
    "rf_final_results"
   ]
  },
  {
   "cell_type": "code",
   "execution_count": 29,
   "metadata": {
    "execution": {
     "iopub.execute_input": "2023-04-28T12:32:00.393220Z",
     "iopub.status.busy": "2023-04-28T12:32:00.392830Z",
     "iopub.status.idle": "2023-04-28T12:32:00.440170Z",
     "shell.execute_reply": "2023-04-28T12:32:00.438638Z",
     "shell.execute_reply.started": "2023-04-28T12:32:00.393183Z"
    },
    "id": "nfmIt7WSBhwA"
   },
   "outputs": [],
   "source": [
    "#check if the results folder exists, if not create it\n",
    "\n",
    "if not os.path.exists('../Results/AdaBoost Results'):\n",
    "    os.makedirs('../Results/AdaBoost Results')"
   ]
  },
  {
   "cell_type": "code",
   "execution_count": 30,
   "metadata": {
    "execution": {
     "iopub.execute_input": "2023-04-28T12:32:00.442621Z",
     "iopub.status.busy": "2023-04-28T12:32:00.442160Z",
     "iopub.status.idle": "2023-04-28T12:32:00.492979Z",
     "shell.execute_reply": "2023-04-28T12:32:00.491691Z",
     "shell.execute_reply.started": "2023-04-28T12:32:00.442583Z"
    },
    "id": "W8V27TNtBhwA"
   },
   "outputs": [],
   "source": [
    "#save the total results to a csv file\n",
    "rf_final_results.to_csv('../Results/AdaBoost Results/AdaBoost Results.csv')"
   ]
  },
  {
   "cell_type": "markdown",
   "metadata": {},
   "source": [
    "## Save all models "
   ]
  },
  {
   "cell_type": "code",
   "execution_count": 31,
   "metadata": {
    "execution": {
     "iopub.execute_input": "2023-04-28T12:32:00.494883Z",
     "iopub.status.busy": "2023-04-28T12:32:00.494517Z",
     "iopub.status.idle": "2023-04-28T12:32:00.538027Z",
     "shell.execute_reply": "2023-04-28T12:32:00.536228Z",
     "shell.execute_reply.started": "2023-04-28T12:32:00.494849Z"
    },
    "id": "WTsHa-uWBhwB"
   },
   "outputs": [],
   "source": [
    "#check if the classifier folder exists, if not create it\n",
    "\n",
    "if not os.path.exists('../Results/AdaBoost Results/Classifiers'):\n",
    "    os.makedirs('../Results/AdaBoost Results/Classifiers')"
   ]
  },
  {
   "cell_type": "code",
   "execution_count": 32,
   "metadata": {
    "execution": {
     "iopub.execute_input": "2023-04-28T12:32:00.540802Z",
     "iopub.status.busy": "2023-04-28T12:32:00.540084Z",
     "iopub.status.idle": "2023-04-28T12:32:00.599574Z",
     "shell.execute_reply": "2023-04-28T12:32:00.598201Z",
     "shell.execute_reply.started": "2023-04-28T12:32:00.540740Z"
    }
   },
   "outputs": [],
   "source": [
    "#pickle.dump(classifier1, open('/kaggle/working/Results/Classifiers/classifier1', 'wb'))\n",
    "\n",
    "pickle.dump(classifier2, open('../Results/AdaBoost Results/Classifiers/classifier2', 'wb'))\n",
    "\n",
    "#pickle.dump(classifier3, open('/kaggle/working/Results/Classifiers/classifier3', 'wb'))\n",
    "\n",
    "pickle.dump(classifier4, open('../Results/AdaBoost Results/Classifiers/classifier4', 'wb'))"
   ]
  },
  {
   "cell_type": "markdown",
   "metadata": {},
   "source": [
    "## Save all Variance Threshold Masks "
   ]
  },
  {
   "cell_type": "code",
   "execution_count": 33,
   "metadata": {
    "execution": {
     "iopub.execute_input": "2023-04-28T12:32:00.602026Z",
     "iopub.status.busy": "2023-04-28T12:32:00.601521Z",
     "iopub.status.idle": "2023-04-28T12:32:00.645888Z",
     "shell.execute_reply": "2023-04-28T12:32:00.644651Z",
     "shell.execute_reply.started": "2023-04-28T12:32:00.601976Z"
    }
   },
   "outputs": [],
   "source": [
    "#check if the masks folder exists, if not create it\n",
    "\n",
    "if not os.path.exists('../Results/AdaBoost Results/Masks'):\n",
    "    os.makedirs('../Results/AdaBoost Results/Masks')"
   ]
  },
  {
   "cell_type": "code",
   "execution_count": 34,
   "metadata": {
    "execution": {
     "iopub.execute_input": "2023-04-28T12:32:00.647810Z",
     "iopub.status.busy": "2023-04-28T12:32:00.647406Z",
     "iopub.status.idle": "2023-04-28T12:32:00.693982Z",
     "shell.execute_reply": "2023-04-28T12:32:00.692596Z",
     "shell.execute_reply.started": "2023-04-28T12:32:00.647771Z"
    }
   },
   "outputs": [],
   "source": [
    "#pickle.dump(mask1, open('/kaggle/working/Results/Masks/mask1', 'wb'))\n",
    "pickle.dump(mask2, open('../Results/AdaBoost Results/Masks/mask2', 'wb'))\n",
    "#pickle.dump(mask3, open('/kaggle/working/Results/Masks/mask3', 'wb'))\n",
    "pickle.dump(mask4, open('../Results/AdaBoost Results/Masks/mask4', 'wb'))"
   ]
  },
  {
   "cell_type": "markdown",
   "metadata": {},
   "source": [
    "## Save all Prediction Probabilities"
   ]
  },
  {
   "cell_type": "code",
   "execution_count": 35,
   "metadata": {
    "execution": {
     "iopub.execute_input": "2023-04-28T12:32:00.696473Z",
     "iopub.status.busy": "2023-04-28T12:32:00.696060Z",
     "iopub.status.idle": "2023-04-28T12:32:00.740944Z",
     "shell.execute_reply": "2023-04-28T12:32:00.739615Z",
     "shell.execute_reply.started": "2023-04-28T12:32:00.696434Z"
    }
   },
   "outputs": [],
   "source": [
    "#check if the pred_probabilities folder exists, if not create it\n",
    "\n",
    "if not os.path.exists('../Results/AdaBoost Results/Pred_Probabilities'):\n",
    "    os.makedirs('../Results/AdaBoost Results/Pred_Probabilities')"
   ]
  },
  {
   "cell_type": "code",
   "execution_count": 36,
   "metadata": {
    "execution": {
     "iopub.execute_input": "2023-04-28T12:32:00.742768Z",
     "iopub.status.busy": "2023-04-28T12:32:00.742405Z",
     "iopub.status.idle": "2023-04-28T12:32:00.788458Z",
     "shell.execute_reply": "2023-04-28T12:32:00.786972Z",
     "shell.execute_reply.started": "2023-04-28T12:32:00.742736Z"
    }
   },
   "outputs": [],
   "source": [
    "#pickle.dump(pred_prob1, open('/kaggle/working/Results/Pred_Probabilities/pred_prob1', 'wb'))\n",
    "pickle.dump(pred_prob2, open('../Results/AdaBoost Results/Pred_Probabilities/pred_prob2', 'wb'))\n",
    "#pickle.dump(pred_prob3, open('/kaggle/working/Results/Pred_Probabilities/pred_prob3', 'wb'))\n",
    "pickle.dump(pred_prob4, open('../Results/AdaBoost Results/Pred_Probabilities/pred_prob4', 'wb'))"
   ]
  },
  {
   "cell_type": "markdown",
   "metadata": {},
   "source": [
    "# ROC Plot "
   ]
  },
  {
   "cell_type": "code",
   "execution_count": 37,
   "metadata": {
    "execution": {
     "iopub.execute_input": "2023-04-28T12:32:00.791427Z",
     "iopub.status.busy": "2023-04-28T12:32:00.790682Z",
     "iopub.status.idle": "2023-04-28T12:32:02.298549Z",
     "shell.execute_reply": "2023-04-28T12:32:02.297297Z",
     "shell.execute_reply.started": "2023-04-28T12:32:00.791387Z"
    }
   },
   "outputs": [
    {
     "data": {
      "image/png": "[encoded data removed]",
      "text/plain": [
       "<Figure size 500x500 with 1 Axes>"
      ]
     },
     "metadata": {},
     "output_type": "display_data"
    },
    {
     "data": {
      "text/plain": [
       "<Figure size 640x480 with 0 Axes>"
      ]
     },
     "metadata": {},
     "output_type": "display_data"
    },
    {
     "data": {
      "image/png": "[encoded data removed]",
      "text/plain": [
       "<Figure size 500x500 with 1 Axes>"
      ]
     },
     "metadata": {},
     "output_type": "display_data"
    },
    {
     "data": {
      "text/plain": [
       "<Figure size 640x480 with 0 Axes>"
      ]
     },
     "metadata": {},
     "output_type": "display_data"
    }
   ],
   "source": [
    "#ROC plot for all the iterations\n",
    "#import the auc function\n",
    "from sklearn.metrics import auc, roc_curve\n",
    "\n",
    "iterations = ['Undersampled','Random 5000']\n",
    "\n",
    "#create a dictionary that maps each iteration to its y_test \n",
    "model_classifier_ytest = {\n",
    "                   'Undersampled':y_test2,\n",
    "                   \n",
    "                   'Random 5000':y_test4}\n",
    "\n",
    "#create a dictionary that maps each iteration to its pred_proba number \n",
    "model_classifier_proba = {\n",
    "                   'Undersampled':pred_prob2,\n",
    "                   \n",
    "                   'Random 5000':pred_prob4}\n",
    "\n",
    "# use a loop to make all the ROC Plots\n",
    "\n",
    "for iteration in iterations:\n",
    "    \n",
    "    y_test = model_classifier_ytest[iteration]\n",
    "\n",
    "    pred_proba = model_classifier_proba[iteration]\n",
    "\n",
    "    #get the false positive and true positive rates\n",
    "    fpr,tpr,threshold = roc_curve(y_test, pred_proba)\n",
    "\n",
    "    #get the auc score using the auc funtion\n",
    "    auc_score = auc(fpr, tpr)\n",
    "\n",
    "    #go ahead to plot the roc \n",
    "    plt.figure(figsize = (5, 5), dpi = 100)\n",
    "\n",
    "    plt.plot(fpr, tpr, label = 'AdaBoost (auc = %0.4f)'%auc_score)\n",
    "    plt.plot([0, 1], [0, 1], linestyle='--', color='black', label='Random Chance') #diagonal line\n",
    "    \n",
    "    plt.title(iteration)\n",
    "\n",
    "    plt.xlabel('False Positve Rate')\n",
    "    plt.ylabel('True Positive Rate')\n",
    "\n",
    "    plt.legend()\n",
    "    plt.show()\n",
    "\n",
    "    plt.savefig('../Results/AdaBoost Results/AdaBoostROC'+iteration+'.png')"
   ]
  },
  {
   "cell_type": "code",
   "execution_count": null,
   "metadata": {},
   "outputs": [],
   "source": []
  }
 ],
 "metadata": {
  "kernelspec": {
   "display_name": "Python 3 (ipykernel)",
   "language": "python",
   "name": "python3"
  },
  "language_info": {
   "codemirror_mode": {
    "name": "ipython",
    "version": 3
   },
   "file_extension": ".py",
   "mimetype": "text/x-python",
   "name": "python",
   "nbconvert_exporter": "python",
   "pygments_lexer": "ipython3",
   "version": "3.9.12"
  }
 },
 "nbformat": 4,
 "nbformat_minor": 4
}
