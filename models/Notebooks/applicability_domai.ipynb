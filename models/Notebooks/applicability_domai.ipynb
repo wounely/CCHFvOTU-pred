{
 "cells": [
  {
   "cell_type": "code",
   "execution_count": 1,
   "metadata": {},
   "outputs": [],
   "source": [
    "import numpy as np\n",
    "import matplotlib.pyplot as plt\n",
    "from scipy.spatial.distance import euclidean\n",
    "from sklearn.model_selection import train_test_split\n",
    "import pandas as pd\n",
    "\n",
    "import pickle\n",
    "from scipy.spatial.distance import cityblock\n",
    "\n",
    "from sklearn.preprocessing import StandardScaler\n",
    "from sklearn.metrics.pairwise import euclidean_distances\n",
    "\n",
    "\n",
    "\n",
    "from sklearn.feature_selection import VarianceThreshold\n"
   ]
  },
  {
   "cell_type": "code",
   "execution_count": 2,
   "metadata": {},
   "outputs": [],
   "source": [
    "plt.rcParams[\"font.family\"] = \"Times New Roman\""
   ]
  },
  {
   "cell_type": "code",
   "execution_count": 3,
   "metadata": {},
   "outputs": [],
   "source": [
    "\n",
    "def train_test(X, y, test_size = 0.2, random_state = 42):\n",
    "    \"\"\"Split a dataset into train and test sets and visualize the distribution of classes in the trainsets\n",
    "\n",
    "    Args:\n",
    "        X (pandas.DataFrame): The feature matrix of a dataset\n",
    "        y (pandas.Series): The target variable of a dataset\n",
    "        test_size (float, optional): The size of the test set. Defaults to 0.2.\n",
    "\n",
    "    Returns:\n",
    "        X_train (pandas.DataFrame): The feature matrix of the training set\n",
    "        X_test (pandas.DataFrame): The feature matrix of the test set\n",
    "        y_train (pandas.Series): The target variable of the training set\n",
    "        y_test (pandas.Series): The target variable of the test set\n",
    "\n",
    "    \"\"\"\n",
    "\n",
    "    X_train, X_test, y_train, y_test = train_test_split(X, y, test_size = test_size, random_state = random_state)\n",
    "\n",
    "    # visualize_class_distribution(y_train)\n",
    "    \n",
    "\n",
    "    print(f'Trainset ---> {y_train.value_counts()[0]} Inactive Compounds, {y_train.value_counts()[1]} Active Compounds')\n",
    "    print(f'Testset ---> {y_test.value_counts()[0]} Inactive Compounds, {y_test.value_counts()[1]} Active Compounds')\n",
    "\n",
    "    return X_train, X_test, y_train, y_test \n",
    "\n",
    "\n",
    "\n",
    "def sep_features_and_target(df, target = 'Activity'):\n",
    "    \"\"\"Divide the dataframe into X and y\n",
    "\n",
    "    Args:\n",
    "        df (pandas.DataFrame): The dataset\n",
    "        target (str, optional): The target variable. Defaults to 'Activity'.\n",
    "\n",
    "    Returns:\n",
    "        X (pandas.DataFrame): The feature matrix of the dataset\n",
    "        y (pandas.Series): The target variable of the dataset\n",
    "    \"\"\"\n",
    "    X = df.drop([target], axis = 1)\n",
    "    y = df[target]\n",
    "\n",
    "    return X, y\n",
    "\n",
    "def variance_filter(X_train, X_test, threshold = 0.0):\n",
    "    \"\"\"Remove features with low variance\n",
    "\n",
    "    Args:\n",
    "        train (pandas.DataFrame): The training set\n",
    "        test (pandas.DataFrame): The test set\n",
    "        threshold (float, optional): The threshold for variance. Defaults to 0.0.\n",
    "\n",
    "    Returns:\n",
    "        pandas.DataFrame: The filtered training set\n",
    "        pandas.DataFrame: The filtered test set\n",
    "    \"\"\"\n",
    "    \n",
    "    print(f'Initial Shapes: X_train ---> {X_train.shape}, X_test ---> {X_test.shape}')\n",
    "    \n",
    "    vt = VarianceThreshold(threshold = threshold)\n",
    "    \n",
    "    #Fit\n",
    "    _ = vt.fit(X_train)\n",
    "    \n",
    "    # Get the mask\n",
    "    mask = vt.get_support()\n",
    "    \n",
    "    #Subset the DataFrame\n",
    "\n",
    "    X_train = X_train.loc[:, mask]\n",
    "    X_test = X_test.loc[:, mask]\n",
    "    \n",
    "    print(f'After Filter: X_train ---> {X_train.shape}, X_test ---> {X_test.shape}')\n",
    "\n",
    "    return X_train, X_test, mask\n",
    "\n",
    "\n",
    "def random_five_thousand(df, num = 5000):\n",
    "    \"\"\"Dataframe with 5000 inactive compounds and all active compounds\n",
    "\n",
    "    Args:\n",
    "        df (dataframe): the dataframe for the training data\n",
    "        \n",
    "    Returns:\n",
    "        df (dataframe): the dataframe for the training data containing 5000 inactive plus all active compounds\n",
    "    \"\"\"\n",
    "    \n",
    "    df_0 = df.query('Activity == 0')\n",
    "    df_1 = df.query('Activity == 1')\n",
    "    \n",
    "    print(f'Initial Number of Compounds: Inactives ---> {len(df_0)}, Actives ---> {len(df_1)}')\n",
    "    \n",
    "    df_0 = df_0.sample(n = num, random_state = 42)\n",
    "    \n",
    "    print(f'Final Number of Compounds: Inactives ---> {len(df_0)}, Actives ---> {len(df_1)}')\n",
    "    \n",
    "    df = pd.concat([df_0, df_1], ignore_index=True)\n",
    "    \n",
    "    return df\n",
    " "
   ]
  },
  {
   "cell_type": "code",
   "execution_count": 6,
   "metadata": {},
   "outputs": [
    {
     "data": {
      "text/plain": [
       "368931"
      ]
     },
     "execution_count": 6,
     "metadata": {},
     "output_type": "execute_result"
    }
   ],
   "source": [
    "   \n",
    "#load in the data\n",
    "df = pd.read_csv('../Data/final_dataset.csv')\n",
    "len(df)\n",
    "#load in the data with the CIDs \n",
    "cid_df = pd.read_csv('../Data/data_with_CID.csv')\n",
    "len(cid_df)\n"
   ]
  },
  {
   "cell_type": "code",
   "execution_count": 8,
   "metadata": {},
   "outputs": [
    {
     "data": {
      "text/plain": [
       "4639"
      ]
     },
     "execution_count": 8,
     "metadata": {},
     "output_type": "execute_result"
    }
   ],
   "source": [
    "#load in the duplicates mask\n",
    "with open('../Data/duplicates_mask', 'rb') as f:\n",
    "    duplicates_mask = pickle.load(f)\n",
    "len(duplicates_mask)\n"
   ]
  },
  {
   "cell_type": "code",
   "execution_count": 9,
   "metadata": {},
   "outputs": [
    {
     "data": {
      "text/plain": [
       "364292"
      ]
     },
     "execution_count": 9,
     "metadata": {},
     "output_type": "execute_result"
    }
   ],
   "source": [
    "#filter the data to remove duplicates \n",
    "cid_df.drop(duplicates_mask, inplace = True)\n",
    "len(cid_df)\n"
   ]
  },
  {
   "cell_type": "code",
   "execution_count": 10,
   "metadata": {},
   "outputs": [
    {
     "data": {
      "text/plain": [
       "Index(['ReadIn_ID', 'USER_ID', 'D001', 'D002', 'D003', 'D004', 'D005', 'D006',\n",
       "       'D007', 'D008',\n",
       "       ...\n",
       "       'D769', 'D770', 'D771', 'D772', 'D773', 'D774', 'D775', 'D776', 'D777',\n",
       "       'Activity'],\n",
       "      dtype='object', length=780)"
      ]
     },
     "execution_count": 10,
     "metadata": {},
     "output_type": "execute_result"
    }
   ],
   "source": [
    "\n",
    "cid_df.head(5)\n",
    "cid_df.columns\n"
   ]
  },
  {
   "cell_type": "code",
   "execution_count": 11,
   "metadata": {},
   "outputs": [
    {
     "data": {
      "text/html": [
       "<div>\n",
       "<style scoped>\n",
       "    .dataframe tbody tr th:only-of-type {\n",
       "        vertical-align: middle;\n",
       "    }\n",
       "\n",
       "    .dataframe tbody tr th {\n",
       "        vertical-align: top;\n",
       "    }\n",
       "\n",
       "    .dataframe thead th {\n",
       "        text-align: right;\n",
       "    }\n",
       "</style>\n",
       "<table border=\"1\" class=\"dataframe\">\n",
       "  <thead>\n",
       "    <tr style=\"text-align: right;\">\n",
       "      <th></th>\n",
       "      <th>USER_ID</th>\n",
       "      <th>D001</th>\n",
       "      <th>D002</th>\n",
       "      <th>D003</th>\n",
       "      <th>D004</th>\n",
       "      <th>D005</th>\n",
       "      <th>D006</th>\n",
       "      <th>D007</th>\n",
       "      <th>D008</th>\n",
       "      <th>D009</th>\n",
       "      <th>...</th>\n",
       "      <th>D769</th>\n",
       "      <th>D770</th>\n",
       "      <th>D771</th>\n",
       "      <th>D772</th>\n",
       "      <th>D773</th>\n",
       "      <th>D774</th>\n",
       "      <th>D775</th>\n",
       "      <th>D776</th>\n",
       "      <th>D777</th>\n",
       "      <th>Activity</th>\n",
       "    </tr>\n",
       "  </thead>\n",
       "  <tbody>\n",
       "    <tr>\n",
       "      <th>0</th>\n",
       "      <td>136153826</td>\n",
       "      <td>2</td>\n",
       "      <td>0</td>\n",
       "      <td>0</td>\n",
       "      <td>2</td>\n",
       "      <td>3</td>\n",
       "      <td>0</td>\n",
       "      <td>0</td>\n",
       "      <td>0</td>\n",
       "      <td>0</td>\n",
       "      <td>...</td>\n",
       "      <td>0</td>\n",
       "      <td>0</td>\n",
       "      <td>0</td>\n",
       "      <td>0</td>\n",
       "      <td>0</td>\n",
       "      <td>5.267</td>\n",
       "      <td>-0.711</td>\n",
       "      <td>0.379</td>\n",
       "      <td>1.885</td>\n",
       "      <td>1</td>\n",
       "    </tr>\n",
       "    <tr>\n",
       "      <th>1</th>\n",
       "      <td>136141512</td>\n",
       "      <td>2</td>\n",
       "      <td>0</td>\n",
       "      <td>0</td>\n",
       "      <td>0</td>\n",
       "      <td>3</td>\n",
       "      <td>0</td>\n",
       "      <td>0</td>\n",
       "      <td>0</td>\n",
       "      <td>0</td>\n",
       "      <td>...</td>\n",
       "      <td>0</td>\n",
       "      <td>0</td>\n",
       "      <td>0</td>\n",
       "      <td>0</td>\n",
       "      <td>0</td>\n",
       "      <td>5.426</td>\n",
       "      <td>-0.712</td>\n",
       "      <td>0.353</td>\n",
       "      <td>5.617</td>\n",
       "      <td>1</td>\n",
       "    </tr>\n",
       "    <tr>\n",
       "      <th>2</th>\n",
       "      <td>136141492</td>\n",
       "      <td>3</td>\n",
       "      <td>0</td>\n",
       "      <td>0</td>\n",
       "      <td>0</td>\n",
       "      <td>4</td>\n",
       "      <td>0</td>\n",
       "      <td>0</td>\n",
       "      <td>0</td>\n",
       "      <td>0</td>\n",
       "      <td>...</td>\n",
       "      <td>0</td>\n",
       "      <td>0</td>\n",
       "      <td>0</td>\n",
       "      <td>0</td>\n",
       "      <td>0</td>\n",
       "      <td>5.883</td>\n",
       "      <td>-0.678</td>\n",
       "      <td>0.383</td>\n",
       "      <td>8.837</td>\n",
       "      <td>1</td>\n",
       "    </tr>\n",
       "    <tr>\n",
       "      <th>3</th>\n",
       "      <td>136141488</td>\n",
       "      <td>3</td>\n",
       "      <td>0</td>\n",
       "      <td>0</td>\n",
       "      <td>0</td>\n",
       "      <td>4</td>\n",
       "      <td>0</td>\n",
       "      <td>0</td>\n",
       "      <td>0</td>\n",
       "      <td>0</td>\n",
       "      <td>...</td>\n",
       "      <td>0</td>\n",
       "      <td>0</td>\n",
       "      <td>0</td>\n",
       "      <td>0</td>\n",
       "      <td>0</td>\n",
       "      <td>5.807</td>\n",
       "      <td>-0.703</td>\n",
       "      <td>0.409</td>\n",
       "      <td>7.934</td>\n",
       "      <td>1</td>\n",
       "    </tr>\n",
       "    <tr>\n",
       "      <th>4</th>\n",
       "      <td>136141454</td>\n",
       "      <td>3</td>\n",
       "      <td>0</td>\n",
       "      <td>0</td>\n",
       "      <td>0</td>\n",
       "      <td>4</td>\n",
       "      <td>0</td>\n",
       "      <td>0</td>\n",
       "      <td>0</td>\n",
       "      <td>0</td>\n",
       "      <td>...</td>\n",
       "      <td>0</td>\n",
       "      <td>0</td>\n",
       "      <td>0</td>\n",
       "      <td>0</td>\n",
       "      <td>0</td>\n",
       "      <td>5.833</td>\n",
       "      <td>-0.710</td>\n",
       "      <td>0.400</td>\n",
       "      <td>7.255</td>\n",
       "      <td>1</td>\n",
       "    </tr>\n",
       "  </tbody>\n",
       "</table>\n",
       "<p>5 rows × 779 columns</p>\n",
       "</div>"
      ],
      "text/plain": [
       "     USER_ID  D001  D002  D003  D004  D005  D006  D007  D008  D009  ...  D769   \n",
       "0  136153826     2     0     0     2     3     0     0     0     0  ...     0  \\\n",
       "1  136141512     2     0     0     0     3     0     0     0     0  ...     0   \n",
       "2  136141492     3     0     0     0     4     0     0     0     0  ...     0   \n",
       "3  136141488     3     0     0     0     4     0     0     0     0  ...     0   \n",
       "4  136141454     3     0     0     0     4     0     0     0     0  ...     0   \n",
       "\n",
       "   D770  D771  D772  D773   D774   D775   D776   D777  Activity  \n",
       "0     0     0     0     0  5.267 -0.711  0.379  1.885         1  \n",
       "1     0     0     0     0  5.426 -0.712  0.353  5.617         1  \n",
       "2     0     0     0     0  5.883 -0.678  0.383  8.837         1  \n",
       "3     0     0     0     0  5.807 -0.703  0.409  7.934         1  \n",
       "4     0     0     0     0  5.833 -0.710  0.400  7.255         1  \n",
       "\n",
       "[5 rows x 779 columns]"
      ]
     },
     "execution_count": 11,
     "metadata": {},
     "output_type": "execute_result"
    }
   ],
   "source": [
    "#drop the Read_ln column\n",
    "cid_df.drop('ReadIn_ID', axis = 1, inplace = True)\n",
    "cid_df.head(5)\n"
   ]
  },
  {
   "cell_type": "code",
   "execution_count": 12,
   "metadata": {},
   "outputs": [
    {
     "name": "stdout",
     "output_type": "stream",
     "text": [
      "Initial Number of Compounds: Inactives ---> 362264, Actives ---> 2028\n",
      "Final Number of Compounds: Inactives ---> 5000, Actives ---> 2028\n"
     ]
    }
   ],
   "source": [
    "\n",
    "#create data for the random 5000 iteration \n",
    "df_r_5000 = random_five_thousand(cid_df)\n"
   ]
  },
  {
   "cell_type": "markdown",
   "metadata": {},
   "source": [
    "# Applicability Domain Using the Standardization Approach"
   ]
  },
  {
   "cell_type": "code",
   "execution_count": 13,
   "metadata": {},
   "outputs": [
    {
     "name": "stdout",
     "output_type": "stream",
     "text": [
      "(7028, 778)\n",
      "(7028,)\n"
     ]
    }
   ],
   "source": [
    "#divide the data into features including the CIDs and y\n",
    "X, y = sep_features_and_target(df_r_5000)\n",
    "print(X.shape)\n",
    "print(y.shape)\n"
   ]
  },
  {
   "cell_type": "code",
   "execution_count": 14,
   "metadata": {},
   "outputs": [
    {
     "name": "stdout",
     "output_type": "stream",
     "text": [
      "Trainset ---> 3982 Inactive Compounds, 1640 Active Compounds\n",
      "Testset ---> 1018 Inactive Compounds, 388 Active Compounds\n",
      "Initial Shapes: X_train ---> (5622, 778), X_test ---> (1406, 778)\n",
      "After Filter: X_train ---> (5622, 630), X_test ---> (1406, 630)\n"
     ]
    }
   ],
   "source": [
    "\n",
    "#split the data into testing and training sets \n",
    "X_train, X_test, y_train, y_test1 = train_test(X,y)\n",
    "#remove low variance features\n",
    "X_train, X_test, mask1 = variance_filter(X_train, X_test)\n",
    "X_train.head()\n",
    "# retrieve the user ids from the train and test sets first and then drop that column \n",
    "X_train_cids = X_train['USER_ID']\n",
    "X_test_cids = X_test['USER_ID']\n",
    "\n",
    "X_train = X_train.drop('USER_ID', axis = 1)\n",
    "X_test = X_test.drop('USER_ID', axis = 1)\n",
    "\n",
    "\n"
   ]
  },
  {
   "cell_type": "code",
   "execution_count": 15,
   "metadata": {},
   "outputs": [
    {
     "name": "stdout",
     "output_type": "stream",
     "text": [
      "(5622,)\n",
      "(1406,)\n",
      "(5622, 629)\n",
      "(1406, 629)\n"
     ]
    },
    {
     "data": {
      "text/html": [
       "<div>\n",
       "<style scoped>\n",
       "    .dataframe tbody tr th:only-of-type {\n",
       "        vertical-align: middle;\n",
       "    }\n",
       "\n",
       "    .dataframe tbody tr th {\n",
       "        vertical-align: top;\n",
       "    }\n",
       "\n",
       "    .dataframe thead th {\n",
       "        text-align: right;\n",
       "    }\n",
       "</style>\n",
       "<table border=\"1\" class=\"dataframe\">\n",
       "  <thead>\n",
       "    <tr style=\"text-align: right;\">\n",
       "      <th></th>\n",
       "      <th>D001</th>\n",
       "      <th>D002</th>\n",
       "      <th>D003</th>\n",
       "      <th>D004</th>\n",
       "      <th>D005</th>\n",
       "      <th>D006</th>\n",
       "      <th>D007</th>\n",
       "      <th>D008</th>\n",
       "      <th>D010</th>\n",
       "      <th>D011</th>\n",
       "      <th>...</th>\n",
       "      <th>D768</th>\n",
       "      <th>D769</th>\n",
       "      <th>D770</th>\n",
       "      <th>D771</th>\n",
       "      <th>D772</th>\n",
       "      <th>D773</th>\n",
       "      <th>D774</th>\n",
       "      <th>D775</th>\n",
       "      <th>D776</th>\n",
       "      <th>D777</th>\n",
       "    </tr>\n",
       "  </thead>\n",
       "  <tbody>\n",
       "    <tr>\n",
       "      <th>3977</th>\n",
       "      <td>2</td>\n",
       "      <td>0</td>\n",
       "      <td>0</td>\n",
       "      <td>0</td>\n",
       "      <td>3</td>\n",
       "      <td>0</td>\n",
       "      <td>0</td>\n",
       "      <td>0</td>\n",
       "      <td>0</td>\n",
       "      <td>0</td>\n",
       "      <td>...</td>\n",
       "      <td>0</td>\n",
       "      <td>0</td>\n",
       "      <td>0</td>\n",
       "      <td>0</td>\n",
       "      <td>0</td>\n",
       "      <td>0</td>\n",
       "      <td>5.16993</td>\n",
       "      <td>-0.781627</td>\n",
       "      <td>0.461538</td>\n",
       "      <td>2.35606</td>\n",
       "    </tr>\n",
       "    <tr>\n",
       "      <th>5309</th>\n",
       "      <td>2</td>\n",
       "      <td>0</td>\n",
       "      <td>0</td>\n",
       "      <td>1</td>\n",
       "      <td>2</td>\n",
       "      <td>0</td>\n",
       "      <td>0</td>\n",
       "      <td>0</td>\n",
       "      <td>0</td>\n",
       "      <td>0</td>\n",
       "      <td>...</td>\n",
       "      <td>0</td>\n",
       "      <td>0</td>\n",
       "      <td>0</td>\n",
       "      <td>0</td>\n",
       "      <td>0</td>\n",
       "      <td>0</td>\n",
       "      <td>5.12900</td>\n",
       "      <td>-0.234000</td>\n",
       "      <td>0.444000</td>\n",
       "      <td>4.96900</td>\n",
       "    </tr>\n",
       "    <tr>\n",
       "      <th>3404</th>\n",
       "      <td>2</td>\n",
       "      <td>0</td>\n",
       "      <td>0</td>\n",
       "      <td>2</td>\n",
       "      <td>2</td>\n",
       "      <td>0</td>\n",
       "      <td>0</td>\n",
       "      <td>0</td>\n",
       "      <td>0</td>\n",
       "      <td>0</td>\n",
       "      <td>...</td>\n",
       "      <td>0</td>\n",
       "      <td>0</td>\n",
       "      <td>0</td>\n",
       "      <td>0</td>\n",
       "      <td>0</td>\n",
       "      <td>0</td>\n",
       "      <td>5.32193</td>\n",
       "      <td>-0.785198</td>\n",
       "      <td>0.375000</td>\n",
       "      <td>3.01580</td>\n",
       "    </tr>\n",
       "    <tr>\n",
       "      <th>4428</th>\n",
       "      <td>2</td>\n",
       "      <td>0</td>\n",
       "      <td>0</td>\n",
       "      <td>0</td>\n",
       "      <td>2</td>\n",
       "      <td>0</td>\n",
       "      <td>0</td>\n",
       "      <td>0</td>\n",
       "      <td>0</td>\n",
       "      <td>0</td>\n",
       "      <td>...</td>\n",
       "      <td>0</td>\n",
       "      <td>0</td>\n",
       "      <td>0</td>\n",
       "      <td>0</td>\n",
       "      <td>0</td>\n",
       "      <td>0</td>\n",
       "      <td>4.70044</td>\n",
       "      <td>-0.763496</td>\n",
       "      <td>0.631579</td>\n",
       "      <td>4.43592</td>\n",
       "    </tr>\n",
       "    <tr>\n",
       "      <th>5513</th>\n",
       "      <td>1</td>\n",
       "      <td>0</td>\n",
       "      <td>0</td>\n",
       "      <td>1</td>\n",
       "      <td>2</td>\n",
       "      <td>0</td>\n",
       "      <td>0</td>\n",
       "      <td>0</td>\n",
       "      <td>0</td>\n",
       "      <td>0</td>\n",
       "      <td>...</td>\n",
       "      <td>0</td>\n",
       "      <td>0</td>\n",
       "      <td>2</td>\n",
       "      <td>1</td>\n",
       "      <td>0</td>\n",
       "      <td>0</td>\n",
       "      <td>5.52400</td>\n",
       "      <td>-0.229000</td>\n",
       "      <td>0.162000</td>\n",
       "      <td>2.21900</td>\n",
       "    </tr>\n",
       "  </tbody>\n",
       "</table>\n",
       "<p>5 rows × 629 columns</p>\n",
       "</div>"
      ],
      "text/plain": [
       "      D001  D002  D003  D004  D005  D006  D007  D008  D010  D011  ...  D768   \n",
       "3977     2     0     0     0     3     0     0     0     0     0  ...     0  \\\n",
       "5309     2     0     0     1     2     0     0     0     0     0  ...     0   \n",
       "3404     2     0     0     2     2     0     0     0     0     0  ...     0   \n",
       "4428     2     0     0     0     2     0     0     0     0     0  ...     0   \n",
       "5513     1     0     0     1     2     0     0     0     0     0  ...     0   \n",
       "\n",
       "      D769  D770  D771  D772  D773     D774      D775      D776     D777  \n",
       "3977     0     0     0     0     0  5.16993 -0.781627  0.461538  2.35606  \n",
       "5309     0     0     0     0     0  5.12900 -0.234000  0.444000  4.96900  \n",
       "3404     0     0     0     0     0  5.32193 -0.785198  0.375000  3.01580  \n",
       "4428     0     0     0     0     0  4.70044 -0.763496  0.631579  4.43592  \n",
       "5513     0     2     1     0     0  5.52400 -0.229000  0.162000  2.21900  \n",
       "\n",
       "[5 rows x 629 columns]"
      ]
     },
     "execution_count": 15,
     "metadata": {},
     "output_type": "execute_result"
    }
   ],
   "source": [
    "\n",
    "\n",
    "print(X_train_cids.shape)\n",
    "print(X_test_cids.shape)\n",
    "print(X_train.shape)\n",
    "print(X_test.shape)\n",
    "X_train.head(5)\n"
   ]
  },
  {
   "cell_type": "code",
   "execution_count": 16,
   "metadata": {},
   "outputs": [],
   "source": [
    "\n",
    "#plot the applicability domain based on the standardization approach \n",
    "#start with the train set \n",
    "#standardize all descriptors \n",
    "for column in X_train.columns: \n",
    "    #compute mean and standard deviation for the column/descriptor\n",
    "    mean = X_train[column].mean()\n",
    "    std = X_train[column].std()\n",
    "    \n",
    "    #standardize training set\n",
    "    X_train[column] = (X_train[column] - mean)/std\n",
    "    \n",
    "    #standardize test set \n",
    "    X_test[column] = (X_test[column] - mean)/std\n",
    "\n",
    "#calculate the maximum and minimum standardized descriptor value for each compound k\n",
    "\"\"\"\n",
    "first create empty lists to contain the compounds that are in the domain with their \n",
    "corresponding indices and those that are not in the domain with their corresponding indices. \n",
    "The indices would be used to locate their compound IDs. \n",
    "\"\"\"\n",
    "in_domain_train = []\n",
    "in_domain_indices_train = []\n",
    "out_domain_train = []\n",
    "out_domain_indices_train = []\n",
    "\n",
    "for compound in range(len(X_train)):\n",
    "    s_max = X_train.iloc[compound].max()\n",
    "    if s_max >3:\n",
    "        s_min = X_train.iloc[compound].min()\n",
    "        if s_min > 3:\n",
    "            out_domain_train.append(s_min)\n",
    "            out_domain_indices_train.append(compound)\n",
    "        else: \n",
    "            mean_des = X_train.iloc[compound].mean()\n",
    "            std_des = X_train.iloc[compound].std()\n",
    "            s_new = mean_des + (1.28 * std_des)\n",
    "            if s_new>3:\n",
    "                out_domain_train.append(s_new)\n",
    "                out_domain_indices_train.append(compound)\n",
    "            else:\n",
    "                in_domain_train.append(s_new)\n",
    "                in_domain_indices_train.append(compound)\n",
    "    else:\n",
    "        in_domain_train.append(s_max)\n",
    "        in_domain_indices_train.append(compound)\n",
    "        \n",
    "#retrieve the compound cids for compounds inside the domain and those outside \n",
    "in_domain_cids_train = X_train_cids.iloc[in_domain_indices_train]\n",
    "out_domain_cids_train = X_train_cids.iloc[out_domain_indices_train]\n"
   ]
  },
  {
   "cell_type": "code",
   "execution_count": 17,
   "metadata": {},
   "outputs": [
    {
     "data": {
      "text/plain": [
       "1.92102454642476"
      ]
     },
     "execution_count": 17,
     "metadata": {},
     "output_type": "execute_result"
    }
   ],
   "source": [
    "    \n",
    "#calculate the percentage of the training data that are below the 3 threshold, hence are outliers\n",
    "total_train = in_domain_train + out_domain_train\n",
    "#get compounds above the 3 threshold \n",
    "above_threshold = [x for x in total_train if x>3 ]\n",
    "\n",
    "percentage = len(above_threshold)/len(in_domain_train + out_domain_train) * 100\n",
    "\n",
    "percentage \n"
   ]
  },
  {
   "cell_type": "code",
   "execution_count": 18,
   "metadata": {},
   "outputs": [
    {
     "name": "stdout",
     "output_type": "stream",
     "text": [
      "5622\n",
      "108\n",
      "1.92102454642476\n",
      "98.07897545357524\n"
     ]
    }
   ],
   "source": [
    "\n",
    "#quality checks\n",
    "print(len(total_train))\n",
    "print(len(above_threshold))\n",
    "print((len(above_threshold)/len(total_train))*100)\n",
    "print(100-percentage)\n"
   ]
  },
  {
   "cell_type": "code",
   "execution_count": 19,
   "metadata": {},
   "outputs": [],
   "source": [
    "#plot the applicability domain based on the standardization approach \n",
    "#Do the test set \n",
    "#standardize all descriptors \n",
    "for column in X_test.columns: \n",
    "#     #compute mean and standard deviation for the column/descriptor\n",
    "#     mean = X_test[column].mean()\n",
    "#     std = X_test[column].std()\n",
    "    \n",
    "    #standardize test set\n",
    "    X_test[column] = (X_test[column] - mean)/std\n",
    "    \n",
    "\n",
    "\n",
    "#calculate the maximum and minimum standardized descriptor value for each compound k\n",
    "\"\"\"\n",
    "first create empty lists to contain the compounds that are in the domain with their \n",
    "corresponding indices and those that are not in the domain with their corresponding indices. \n",
    "The indices would be used to locate their compound IDs. \n",
    "\"\"\"\n",
    "in_domain_test = []\n",
    "in_domain_indices_test = []\n",
    "out_domain_test = []\n",
    "out_domain_indices_test = []\n",
    "\n",
    "for compound in range(len(X_test)):\n",
    "    s_max = X_test.iloc[compound].max()\n",
    "    if s_max >3:\n",
    "        s_min = X_test.iloc[compound].min()\n",
    "        if s_min > 3:\n",
    "            out_domain_test.append(s_min)\n",
    "            out_domain_indices_test.append(compound)\n",
    "        else: \n",
    "            mean_des = X_test.iloc[compound].mean()\n",
    "            std_des = X_test.iloc[compound].std()\n",
    "            s_new = mean_des + (1.28 * std_des)\n",
    "            if s_new>3:\n",
    "                out_domain_test.append(s_new)\n",
    "                out_domain_indices_test.append(compound)\n",
    "            else:\n",
    "                in_domain_test.append(s_new)\n",
    "                in_domain_indices_test.append(compound)\n",
    "    else:\n",
    "        in_domain_test.append(s_max)\n",
    "        in_domain_indices_test.append(compound)\n",
    "        \n",
    "        \n",
    "#retrieve the compound cids for compounds inside the domain and those outside \n",
    "in_domain_cids_test = X_test_cids.iloc[in_domain_indices_test]\n",
    "out_domain_cids_test = X_test_cids.iloc[out_domain_indices_test]\n"
   ]
  },
  {
   "cell_type": "code",
   "execution_count": 20,
   "metadata": {},
   "outputs": [
    {
     "data": {
      "text/plain": [
       "0.4978662873399715"
      ]
     },
     "execution_count": 20,
     "metadata": {},
     "output_type": "execute_result"
    }
   ],
   "source": [
    "    \n",
    "#calculate the percentage of the training data that are below the 3 threshold, hence are outliers\n",
    "total_test = in_domain_test + out_domain_test\n",
    "#get compounds above the 3 threshold \n",
    "above_threshold = [x for x in total_test if x>3 ]\n",
    "\n",
    "percentage = len(above_threshold)/len(in_domain_test + out_domain_test) * 100\n",
    "\n",
    "percentage "
   ]
  },
  {
   "cell_type": "code",
   "execution_count": 21,
   "metadata": {},
   "outputs": [
    {
     "name": "stdout",
     "output_type": "stream",
     "text": [
      "1406\n",
      "7\n",
      "0.4978662873399715\n",
      "99.50213371266003\n"
     ]
    }
   ],
   "source": [
    "\n",
    "#quality checks\n",
    "print(len(total_test))\n",
    "print(len(above_threshold))\n",
    "print((len(above_threshold)/len(total_test))*100)\n",
    "print(100-percentage)\n"
   ]
  },
  {
   "cell_type": "code",
   "execution_count": 29,
   "metadata": {},
   "outputs": [
    {
     "data": {
      "image/png": "[encoded data removed]",
      "text/plain": [
       "<Figure size 640x480 with 1 Axes>"
      ]
     },
     "metadata": {},
     "output_type": "display_data"
    }
   ],
   "source": [
    "\n",
    "#plot the applicability domain for the training dataset\n",
    "#fig,ax = plt.subplots()\n",
    "plt.scatter(np.log(in_domain_cids_train), in_domain_train, color = 'g',  s=80, alpha=0.9, label=\"Train\", marker=\"o\", edgecolors='black')\n",
    "plt.scatter(np.log(out_domain_cids_train), out_domain_train,color = 'g',  s=80, alpha=0.9, marker=\"o\", edgecolors='black')\n",
    "\n",
    "\n",
    "#plot the applicability domain for the training dataset\n",
    "#fig,ax = plt.subplots()\n",
    "plt.scatter(np.log(in_domain_cids_test), in_domain_test, color = 'c', s=80, alpha=0.5, label=\"Test\", marker=\"o\", edgecolors='black' )\n",
    "plt.scatter(np.log(out_domain_cids_test), out_domain_test, color = 'c', s=80, alpha=0.5, marker=\"o\", edgecolors='black')\n",
    "plt.axhline(3, color = 'red', ls= '--')\n",
    "plt.xlabel(\"Log(Compound CID)\" )\n",
    "plt.ylabel(\"Standardized Descriptor Values\")\n",
    "#plt.title('Applicability Domain Analysis Using \\n Standardized Descriptor Values ')\n",
    "plt.legend()\n",
    "plt.savefig('../Results/Applicability domain_no_title.pdf')\n"
   ]
  },
  {
   "cell_type": "code",
   "execution_count": null,
   "metadata": {},
   "outputs": [],
   "source": []
  },
  {
   "cell_type": "code",
   "execution_count": null,
   "metadata": {},
   "outputs": [],
   "source": []
  },
  {
   "cell_type": "code",
   "execution_count": null,
   "metadata": {},
   "outputs": [],
   "source": []
  },
  {
   "cell_type": "code",
   "execution_count": null,
   "metadata": {},
   "outputs": [],
   "source": []
  },
  {
   "cell_type": "code",
   "execution_count": null,
   "metadata": {},
   "outputs": [],
   "source": []
  }
 ],
 "metadata": {
  "kernelspec": {
   "display_name": ".venv",
   "language": "python",
   "name": "python3"
  },
  "language_info": {
   "codemirror_mode": {
    "name": "ipython",
    "version": 3
   },
   "file_extension": ".py",
   "mimetype": "text/x-python",
   "name": "python",
   "nbconvert_exporter": "python",
   "pygments_lexer": "ipython3",
   "version": "3.10.11"
  },
  "orig_nbformat": 4
 },
 "nbformat": 4,
 "nbformat_minor": 2
}
